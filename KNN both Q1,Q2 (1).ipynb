{
 "cells": [
  {
   "cell_type": "markdown",
   "id": "e18d1f64",
   "metadata": {},
   "source": [
    "# Q1).Implement a KNN model to classify the animals in to categorie."
   ]
  },
  {
   "cell_type": "code",
   "execution_count": 1,
   "id": "f66a80cc",
   "metadata": {},
   "outputs": [],
   "source": [
    "#suppresses warning messages while you to run your code "
   ]
  },
  {
   "cell_type": "code",
   "execution_count": 2,
   "id": "60925e24",
   "metadata": {},
   "outputs": [],
   "source": [
    "import warnings\n",
    "warnings.filterwarnings('ignore')"
   ]
  },
  {
   "cell_type": "code",
   "execution_count": 3,
   "id": "ed674699",
   "metadata": {},
   "outputs": [],
   "source": [
    "#importing pandas and loading data"
   ]
  },
  {
   "cell_type": "code",
   "execution_count": 4,
   "id": "008211b4",
   "metadata": {},
   "outputs": [
    {
     "data": {
      "text/html": [
       "<div>\n",
       "<style scoped>\n",
       "    .dataframe tbody tr th:only-of-type {\n",
       "        vertical-align: middle;\n",
       "    }\n",
       "\n",
       "    .dataframe tbody tr th {\n",
       "        vertical-align: top;\n",
       "    }\n",
       "\n",
       "    .dataframe thead th {\n",
       "        text-align: right;\n",
       "    }\n",
       "</style>\n",
       "<table border=\"1\" class=\"dataframe\">\n",
       "  <thead>\n",
       "    <tr style=\"text-align: right;\">\n",
       "      <th></th>\n",
       "      <th>animal name</th>\n",
       "      <th>hair</th>\n",
       "      <th>feathers</th>\n",
       "      <th>eggs</th>\n",
       "      <th>milk</th>\n",
       "      <th>airborne</th>\n",
       "      <th>aquatic</th>\n",
       "      <th>predator</th>\n",
       "      <th>toothed</th>\n",
       "      <th>backbone</th>\n",
       "      <th>breathes</th>\n",
       "      <th>venomous</th>\n",
       "      <th>fins</th>\n",
       "      <th>legs</th>\n",
       "      <th>tail</th>\n",
       "      <th>domestic</th>\n",
       "      <th>catsize</th>\n",
       "      <th>type</th>\n",
       "    </tr>\n",
       "  </thead>\n",
       "  <tbody>\n",
       "    <tr>\n",
       "      <th>0</th>\n",
       "      <td>aardvark</td>\n",
       "      <td>1</td>\n",
       "      <td>0</td>\n",
       "      <td>0</td>\n",
       "      <td>1</td>\n",
       "      <td>0</td>\n",
       "      <td>0</td>\n",
       "      <td>1</td>\n",
       "      <td>1</td>\n",
       "      <td>1</td>\n",
       "      <td>1</td>\n",
       "      <td>0</td>\n",
       "      <td>0</td>\n",
       "      <td>4</td>\n",
       "      <td>0</td>\n",
       "      <td>0</td>\n",
       "      <td>1</td>\n",
       "      <td>1</td>\n",
       "    </tr>\n",
       "    <tr>\n",
       "      <th>1</th>\n",
       "      <td>antelope</td>\n",
       "      <td>1</td>\n",
       "      <td>0</td>\n",
       "      <td>0</td>\n",
       "      <td>1</td>\n",
       "      <td>0</td>\n",
       "      <td>0</td>\n",
       "      <td>0</td>\n",
       "      <td>1</td>\n",
       "      <td>1</td>\n",
       "      <td>1</td>\n",
       "      <td>0</td>\n",
       "      <td>0</td>\n",
       "      <td>4</td>\n",
       "      <td>1</td>\n",
       "      <td>0</td>\n",
       "      <td>1</td>\n",
       "      <td>1</td>\n",
       "    </tr>\n",
       "    <tr>\n",
       "      <th>2</th>\n",
       "      <td>bass</td>\n",
       "      <td>0</td>\n",
       "      <td>0</td>\n",
       "      <td>1</td>\n",
       "      <td>0</td>\n",
       "      <td>0</td>\n",
       "      <td>1</td>\n",
       "      <td>1</td>\n",
       "      <td>1</td>\n",
       "      <td>1</td>\n",
       "      <td>0</td>\n",
       "      <td>0</td>\n",
       "      <td>1</td>\n",
       "      <td>0</td>\n",
       "      <td>1</td>\n",
       "      <td>0</td>\n",
       "      <td>0</td>\n",
       "      <td>4</td>\n",
       "    </tr>\n",
       "    <tr>\n",
       "      <th>3</th>\n",
       "      <td>bear</td>\n",
       "      <td>1</td>\n",
       "      <td>0</td>\n",
       "      <td>0</td>\n",
       "      <td>1</td>\n",
       "      <td>0</td>\n",
       "      <td>0</td>\n",
       "      <td>1</td>\n",
       "      <td>1</td>\n",
       "      <td>1</td>\n",
       "      <td>1</td>\n",
       "      <td>0</td>\n",
       "      <td>0</td>\n",
       "      <td>4</td>\n",
       "      <td>0</td>\n",
       "      <td>0</td>\n",
       "      <td>1</td>\n",
       "      <td>1</td>\n",
       "    </tr>\n",
       "    <tr>\n",
       "      <th>4</th>\n",
       "      <td>boar</td>\n",
       "      <td>1</td>\n",
       "      <td>0</td>\n",
       "      <td>0</td>\n",
       "      <td>1</td>\n",
       "      <td>0</td>\n",
       "      <td>0</td>\n",
       "      <td>1</td>\n",
       "      <td>1</td>\n",
       "      <td>1</td>\n",
       "      <td>1</td>\n",
       "      <td>0</td>\n",
       "      <td>0</td>\n",
       "      <td>4</td>\n",
       "      <td>1</td>\n",
       "      <td>0</td>\n",
       "      <td>1</td>\n",
       "      <td>1</td>\n",
       "    </tr>\n",
       "  </tbody>\n",
       "</table>\n",
       "</div>"
      ],
      "text/plain": [
       "  animal name  hair  feathers  eggs  milk  airborne  aquatic  predator  \\\n",
       "0    aardvark     1         0     0     1         0        0         1   \n",
       "1    antelope     1         0     0     1         0        0         0   \n",
       "2        bass     0         0     1     0         0        1         1   \n",
       "3        bear     1         0     0     1         0        0         1   \n",
       "4        boar     1         0     0     1         0        0         1   \n",
       "\n",
       "   toothed  backbone  breathes  venomous  fins  legs  tail  domestic  catsize  \\\n",
       "0        1         1         1         0     0     4     0         0        1   \n",
       "1        1         1         1         0     0     4     1         0        1   \n",
       "2        1         1         0         0     1     0     1         0        0   \n",
       "3        1         1         1         0     0     4     0         0        1   \n",
       "4        1         1         1         0     0     4     1         0        1   \n",
       "\n",
       "   type  \n",
       "0     1  \n",
       "1     1  \n",
       "2     4  \n",
       "3     1  \n",
       "4     1  "
      ]
     },
     "execution_count": 4,
     "metadata": {},
     "output_type": "execute_result"
    }
   ],
   "source": [
    "import pandas as pd\n",
    "df = pd.read_csv('Zoo.csv')\n",
    "df.head()"
   ]
  },
  {
   "cell_type": "code",
   "execution_count": 5,
   "id": "94c9e428",
   "metadata": {},
   "outputs": [],
   "source": [
    "#Performing EDA"
   ]
  },
  {
   "cell_type": "code",
   "execution_count": 6,
   "id": "2b84a7aa",
   "metadata": {},
   "outputs": [
    {
     "data": {
      "text/html": [
       "<div>\n",
       "<style scoped>\n",
       "    .dataframe tbody tr th:only-of-type {\n",
       "        vertical-align: middle;\n",
       "    }\n",
       "\n",
       "    .dataframe tbody tr th {\n",
       "        vertical-align: top;\n",
       "    }\n",
       "\n",
       "    .dataframe thead th {\n",
       "        text-align: right;\n",
       "    }\n",
       "</style>\n",
       "<table border=\"1\" class=\"dataframe\">\n",
       "  <thead>\n",
       "    <tr style=\"text-align: right;\">\n",
       "      <th></th>\n",
       "      <th>count</th>\n",
       "      <th>mean</th>\n",
       "      <th>std</th>\n",
       "      <th>min</th>\n",
       "      <th>25%</th>\n",
       "      <th>50%</th>\n",
       "      <th>75%</th>\n",
       "      <th>max</th>\n",
       "    </tr>\n",
       "  </thead>\n",
       "  <tbody>\n",
       "    <tr>\n",
       "      <th>hair</th>\n",
       "      <td>101.0</td>\n",
       "      <td>0.425743</td>\n",
       "      <td>0.496921</td>\n",
       "      <td>0.0</td>\n",
       "      <td>0.0</td>\n",
       "      <td>0.0</td>\n",
       "      <td>1.0</td>\n",
       "      <td>1.0</td>\n",
       "    </tr>\n",
       "    <tr>\n",
       "      <th>feathers</th>\n",
       "      <td>101.0</td>\n",
       "      <td>0.198020</td>\n",
       "      <td>0.400495</td>\n",
       "      <td>0.0</td>\n",
       "      <td>0.0</td>\n",
       "      <td>0.0</td>\n",
       "      <td>0.0</td>\n",
       "      <td>1.0</td>\n",
       "    </tr>\n",
       "    <tr>\n",
       "      <th>eggs</th>\n",
       "      <td>101.0</td>\n",
       "      <td>0.584158</td>\n",
       "      <td>0.495325</td>\n",
       "      <td>0.0</td>\n",
       "      <td>0.0</td>\n",
       "      <td>1.0</td>\n",
       "      <td>1.0</td>\n",
       "      <td>1.0</td>\n",
       "    </tr>\n",
       "    <tr>\n",
       "      <th>milk</th>\n",
       "      <td>101.0</td>\n",
       "      <td>0.405941</td>\n",
       "      <td>0.493522</td>\n",
       "      <td>0.0</td>\n",
       "      <td>0.0</td>\n",
       "      <td>0.0</td>\n",
       "      <td>1.0</td>\n",
       "      <td>1.0</td>\n",
       "    </tr>\n",
       "    <tr>\n",
       "      <th>airborne</th>\n",
       "      <td>101.0</td>\n",
       "      <td>0.237624</td>\n",
       "      <td>0.427750</td>\n",
       "      <td>0.0</td>\n",
       "      <td>0.0</td>\n",
       "      <td>0.0</td>\n",
       "      <td>0.0</td>\n",
       "      <td>1.0</td>\n",
       "    </tr>\n",
       "    <tr>\n",
       "      <th>aquatic</th>\n",
       "      <td>101.0</td>\n",
       "      <td>0.356436</td>\n",
       "      <td>0.481335</td>\n",
       "      <td>0.0</td>\n",
       "      <td>0.0</td>\n",
       "      <td>0.0</td>\n",
       "      <td>1.0</td>\n",
       "      <td>1.0</td>\n",
       "    </tr>\n",
       "    <tr>\n",
       "      <th>predator</th>\n",
       "      <td>101.0</td>\n",
       "      <td>0.554455</td>\n",
       "      <td>0.499505</td>\n",
       "      <td>0.0</td>\n",
       "      <td>0.0</td>\n",
       "      <td>1.0</td>\n",
       "      <td>1.0</td>\n",
       "      <td>1.0</td>\n",
       "    </tr>\n",
       "    <tr>\n",
       "      <th>toothed</th>\n",
       "      <td>101.0</td>\n",
       "      <td>0.603960</td>\n",
       "      <td>0.491512</td>\n",
       "      <td>0.0</td>\n",
       "      <td>0.0</td>\n",
       "      <td>1.0</td>\n",
       "      <td>1.0</td>\n",
       "      <td>1.0</td>\n",
       "    </tr>\n",
       "    <tr>\n",
       "      <th>backbone</th>\n",
       "      <td>101.0</td>\n",
       "      <td>0.821782</td>\n",
       "      <td>0.384605</td>\n",
       "      <td>0.0</td>\n",
       "      <td>1.0</td>\n",
       "      <td>1.0</td>\n",
       "      <td>1.0</td>\n",
       "      <td>1.0</td>\n",
       "    </tr>\n",
       "    <tr>\n",
       "      <th>breathes</th>\n",
       "      <td>101.0</td>\n",
       "      <td>0.792079</td>\n",
       "      <td>0.407844</td>\n",
       "      <td>0.0</td>\n",
       "      <td>1.0</td>\n",
       "      <td>1.0</td>\n",
       "      <td>1.0</td>\n",
       "      <td>1.0</td>\n",
       "    </tr>\n",
       "    <tr>\n",
       "      <th>venomous</th>\n",
       "      <td>101.0</td>\n",
       "      <td>0.079208</td>\n",
       "      <td>0.271410</td>\n",
       "      <td>0.0</td>\n",
       "      <td>0.0</td>\n",
       "      <td>0.0</td>\n",
       "      <td>0.0</td>\n",
       "      <td>1.0</td>\n",
       "    </tr>\n",
       "    <tr>\n",
       "      <th>fins</th>\n",
       "      <td>101.0</td>\n",
       "      <td>0.168317</td>\n",
       "      <td>0.376013</td>\n",
       "      <td>0.0</td>\n",
       "      <td>0.0</td>\n",
       "      <td>0.0</td>\n",
       "      <td>0.0</td>\n",
       "      <td>1.0</td>\n",
       "    </tr>\n",
       "    <tr>\n",
       "      <th>legs</th>\n",
       "      <td>101.0</td>\n",
       "      <td>2.841584</td>\n",
       "      <td>2.033385</td>\n",
       "      <td>0.0</td>\n",
       "      <td>2.0</td>\n",
       "      <td>4.0</td>\n",
       "      <td>4.0</td>\n",
       "      <td>8.0</td>\n",
       "    </tr>\n",
       "    <tr>\n",
       "      <th>tail</th>\n",
       "      <td>101.0</td>\n",
       "      <td>0.742574</td>\n",
       "      <td>0.439397</td>\n",
       "      <td>0.0</td>\n",
       "      <td>0.0</td>\n",
       "      <td>1.0</td>\n",
       "      <td>1.0</td>\n",
       "      <td>1.0</td>\n",
       "    </tr>\n",
       "    <tr>\n",
       "      <th>domestic</th>\n",
       "      <td>101.0</td>\n",
       "      <td>0.128713</td>\n",
       "      <td>0.336552</td>\n",
       "      <td>0.0</td>\n",
       "      <td>0.0</td>\n",
       "      <td>0.0</td>\n",
       "      <td>0.0</td>\n",
       "      <td>1.0</td>\n",
       "    </tr>\n",
       "    <tr>\n",
       "      <th>catsize</th>\n",
       "      <td>101.0</td>\n",
       "      <td>0.435644</td>\n",
       "      <td>0.498314</td>\n",
       "      <td>0.0</td>\n",
       "      <td>0.0</td>\n",
       "      <td>0.0</td>\n",
       "      <td>1.0</td>\n",
       "      <td>1.0</td>\n",
       "    </tr>\n",
       "    <tr>\n",
       "      <th>type</th>\n",
       "      <td>101.0</td>\n",
       "      <td>2.831683</td>\n",
       "      <td>2.102709</td>\n",
       "      <td>1.0</td>\n",
       "      <td>1.0</td>\n",
       "      <td>2.0</td>\n",
       "      <td>4.0</td>\n",
       "      <td>7.0</td>\n",
       "    </tr>\n",
       "  </tbody>\n",
       "</table>\n",
       "</div>"
      ],
      "text/plain": [
       "          count      mean       std  min  25%  50%  75%  max\n",
       "hair      101.0  0.425743  0.496921  0.0  0.0  0.0  1.0  1.0\n",
       "feathers  101.0  0.198020  0.400495  0.0  0.0  0.0  0.0  1.0\n",
       "eggs      101.0  0.584158  0.495325  0.0  0.0  1.0  1.0  1.0\n",
       "milk      101.0  0.405941  0.493522  0.0  0.0  0.0  1.0  1.0\n",
       "airborne  101.0  0.237624  0.427750  0.0  0.0  0.0  0.0  1.0\n",
       "aquatic   101.0  0.356436  0.481335  0.0  0.0  0.0  1.0  1.0\n",
       "predator  101.0  0.554455  0.499505  0.0  0.0  1.0  1.0  1.0\n",
       "toothed   101.0  0.603960  0.491512  0.0  0.0  1.0  1.0  1.0\n",
       "backbone  101.0  0.821782  0.384605  0.0  1.0  1.0  1.0  1.0\n",
       "breathes  101.0  0.792079  0.407844  0.0  1.0  1.0  1.0  1.0\n",
       "venomous  101.0  0.079208  0.271410  0.0  0.0  0.0  0.0  1.0\n",
       "fins      101.0  0.168317  0.376013  0.0  0.0  0.0  0.0  1.0\n",
       "legs      101.0  2.841584  2.033385  0.0  2.0  4.0  4.0  8.0\n",
       "tail      101.0  0.742574  0.439397  0.0  0.0  1.0  1.0  1.0\n",
       "domestic  101.0  0.128713  0.336552  0.0  0.0  0.0  0.0  1.0\n",
       "catsize   101.0  0.435644  0.498314  0.0  0.0  0.0  1.0  1.0\n",
       "type      101.0  2.831683  2.102709  1.0  1.0  2.0  4.0  7.0"
      ]
     },
     "execution_count": 6,
     "metadata": {},
     "output_type": "execute_result"
    }
   ],
   "source": [
    "df.describe().T"
   ]
  },
  {
   "cell_type": "code",
   "execution_count": 7,
   "id": "6171ff17",
   "metadata": {},
   "outputs": [
    {
     "data": {
      "text/html": [
       "<div>\n",
       "<style scoped>\n",
       "    .dataframe tbody tr th:only-of-type {\n",
       "        vertical-align: middle;\n",
       "    }\n",
       "\n",
       "    .dataframe tbody tr th {\n",
       "        vertical-align: top;\n",
       "    }\n",
       "\n",
       "    .dataframe thead th {\n",
       "        text-align: right;\n",
       "    }\n",
       "</style>\n",
       "<table border=\"1\" class=\"dataframe\">\n",
       "  <thead>\n",
       "    <tr style=\"text-align: right;\">\n",
       "      <th></th>\n",
       "      <th>hair</th>\n",
       "      <th>feathers</th>\n",
       "      <th>eggs</th>\n",
       "      <th>milk</th>\n",
       "      <th>airborne</th>\n",
       "      <th>aquatic</th>\n",
       "      <th>predator</th>\n",
       "      <th>toothed</th>\n",
       "      <th>backbone</th>\n",
       "      <th>breathes</th>\n",
       "      <th>venomous</th>\n",
       "      <th>fins</th>\n",
       "      <th>legs</th>\n",
       "      <th>tail</th>\n",
       "      <th>domestic</th>\n",
       "      <th>catsize</th>\n",
       "      <th>type</th>\n",
       "    </tr>\n",
       "  </thead>\n",
       "  <tbody>\n",
       "    <tr>\n",
       "      <th>hair</th>\n",
       "      <td>1.000000</td>\n",
       "      <td>-0.427851</td>\n",
       "      <td>-0.817382</td>\n",
       "      <td>0.878503</td>\n",
       "      <td>-0.198431</td>\n",
       "      <td>-0.473554</td>\n",
       "      <td>-0.154769</td>\n",
       "      <td>0.492531</td>\n",
       "      <td>0.191681</td>\n",
       "      <td>0.441149</td>\n",
       "      <td>-0.104245</td>\n",
       "      <td>-0.280313</td>\n",
       "      <td>0.394009</td>\n",
       "      <td>0.048973</td>\n",
       "      <td>0.207208</td>\n",
       "      <td>0.455020</td>\n",
       "      <td>-0.562384</td>\n",
       "    </tr>\n",
       "    <tr>\n",
       "      <th>feathers</th>\n",
       "      <td>-0.427851</td>\n",
       "      <td>1.000000</td>\n",
       "      <td>0.419248</td>\n",
       "      <td>-0.410761</td>\n",
       "      <td>0.656553</td>\n",
       "      <td>-0.058552</td>\n",
       "      <td>-0.104430</td>\n",
       "      <td>-0.613631</td>\n",
       "      <td>0.231403</td>\n",
       "      <td>0.254588</td>\n",
       "      <td>-0.145739</td>\n",
       "      <td>-0.223541</td>\n",
       "      <td>-0.206686</td>\n",
       "      <td>0.292569</td>\n",
       "      <td>0.031586</td>\n",
       "      <td>-0.135934</td>\n",
       "      <td>-0.197520</td>\n",
       "    </tr>\n",
       "    <tr>\n",
       "      <th>eggs</th>\n",
       "      <td>-0.817382</td>\n",
       "      <td>0.419248</td>\n",
       "      <td>1.000000</td>\n",
       "      <td>-0.938848</td>\n",
       "      <td>0.376646</td>\n",
       "      <td>0.376244</td>\n",
       "      <td>0.011605</td>\n",
       "      <td>-0.642150</td>\n",
       "      <td>-0.340420</td>\n",
       "      <td>-0.382777</td>\n",
       "      <td>0.098689</td>\n",
       "      <td>0.164796</td>\n",
       "      <td>-0.224918</td>\n",
       "      <td>-0.221090</td>\n",
       "      <td>-0.155610</td>\n",
       "      <td>-0.514650</td>\n",
       "      <td>0.661825</td>\n",
       "    </tr>\n",
       "    <tr>\n",
       "      <th>milk</th>\n",
       "      <td>0.878503</td>\n",
       "      <td>-0.410761</td>\n",
       "      <td>-0.938848</td>\n",
       "      <td>1.000000</td>\n",
       "      <td>-0.366765</td>\n",
       "      <td>-0.362613</td>\n",
       "      <td>-0.029721</td>\n",
       "      <td>0.628168</td>\n",
       "      <td>0.384958</td>\n",
       "      <td>0.423527</td>\n",
       "      <td>-0.242449</td>\n",
       "      <td>-0.156328</td>\n",
       "      <td>0.214196</td>\n",
       "      <td>0.210026</td>\n",
       "      <td>0.163928</td>\n",
       "      <td>0.574906</td>\n",
       "      <td>-0.723683</td>\n",
       "    </tr>\n",
       "    <tr>\n",
       "      <th>airborne</th>\n",
       "      <td>-0.198431</td>\n",
       "      <td>0.656553</td>\n",
       "      <td>0.376646</td>\n",
       "      <td>-0.366765</td>\n",
       "      <td>1.000000</td>\n",
       "      <td>-0.172638</td>\n",
       "      <td>-0.295181</td>\n",
       "      <td>-0.594311</td>\n",
       "      <td>-0.104718</td>\n",
       "      <td>0.286039</td>\n",
       "      <td>0.008528</td>\n",
       "      <td>-0.251157</td>\n",
       "      <td>0.043712</td>\n",
       "      <td>0.009482</td>\n",
       "      <td>0.063274</td>\n",
       "      <td>-0.349768</td>\n",
       "      <td>0.022677</td>\n",
       "    </tr>\n",
       "    <tr>\n",
       "      <th>aquatic</th>\n",
       "      <td>-0.473554</td>\n",
       "      <td>-0.058552</td>\n",
       "      <td>0.376244</td>\n",
       "      <td>-0.362613</td>\n",
       "      <td>-0.172638</td>\n",
       "      <td>1.000000</td>\n",
       "      <td>0.375978</td>\n",
       "      <td>0.053150</td>\n",
       "      <td>0.022463</td>\n",
       "      <td>-0.637506</td>\n",
       "      <td>0.087915</td>\n",
       "      <td>0.604492</td>\n",
       "      <td>-0.360638</td>\n",
       "      <td>-0.034642</td>\n",
       "      <td>-0.224308</td>\n",
       "      <td>-0.111866</td>\n",
       "      <td>0.326639</td>\n",
       "    </tr>\n",
       "    <tr>\n",
       "      <th>predator</th>\n",
       "      <td>-0.154769</td>\n",
       "      <td>-0.104430</td>\n",
       "      <td>0.011605</td>\n",
       "      <td>-0.029721</td>\n",
       "      <td>-0.295181</td>\n",
       "      <td>0.375978</td>\n",
       "      <td>1.000000</td>\n",
       "      <td>0.129452</td>\n",
       "      <td>0.051022</td>\n",
       "      <td>-0.262931</td>\n",
       "      <td>0.115391</td>\n",
       "      <td>0.190302</td>\n",
       "      <td>-0.099723</td>\n",
       "      <td>0.018947</td>\n",
       "      <td>-0.309794</td>\n",
       "      <td>0.144790</td>\n",
       "      <td>0.061179</td>\n",
       "    </tr>\n",
       "    <tr>\n",
       "      <th>toothed</th>\n",
       "      <td>0.492531</td>\n",
       "      <td>-0.613631</td>\n",
       "      <td>-0.642150</td>\n",
       "      <td>0.628168</td>\n",
       "      <td>-0.594311</td>\n",
       "      <td>0.053150</td>\n",
       "      <td>0.129452</td>\n",
       "      <td>1.000000</td>\n",
       "      <td>0.575085</td>\n",
       "      <td>-0.065690</td>\n",
       "      <td>-0.062344</td>\n",
       "      <td>0.364292</td>\n",
       "      <td>-0.193476</td>\n",
       "      <td>0.310368</td>\n",
       "      <td>0.069430</td>\n",
       "      <td>0.344010</td>\n",
       "      <td>-0.471527</td>\n",
       "    </tr>\n",
       "    <tr>\n",
       "      <th>backbone</th>\n",
       "      <td>0.191681</td>\n",
       "      <td>0.231403</td>\n",
       "      <td>-0.340420</td>\n",
       "      <td>0.384958</td>\n",
       "      <td>-0.104718</td>\n",
       "      <td>0.022463</td>\n",
       "      <td>0.051022</td>\n",
       "      <td>0.575085</td>\n",
       "      <td>1.000000</td>\n",
       "      <td>0.207666</td>\n",
       "      <td>-0.246611</td>\n",
       "      <td>0.209499</td>\n",
       "      <td>-0.432856</td>\n",
       "      <td>0.731762</td>\n",
       "      <td>0.101733</td>\n",
       "      <td>0.356976</td>\n",
       "      <td>-0.828845</td>\n",
       "    </tr>\n",
       "    <tr>\n",
       "      <th>breathes</th>\n",
       "      <td>0.441149</td>\n",
       "      <td>0.254588</td>\n",
       "      <td>-0.382777</td>\n",
       "      <td>0.423527</td>\n",
       "      <td>0.286039</td>\n",
       "      <td>-0.637506</td>\n",
       "      <td>-0.262931</td>\n",
       "      <td>-0.065690</td>\n",
       "      <td>0.207666</td>\n",
       "      <td>1.000000</td>\n",
       "      <td>-0.120752</td>\n",
       "      <td>-0.617219</td>\n",
       "      <td>0.369868</td>\n",
       "      <td>0.088952</td>\n",
       "      <td>0.124068</td>\n",
       "      <td>0.204125</td>\n",
       "      <td>-0.519308</td>\n",
       "    </tr>\n",
       "    <tr>\n",
       "      <th>venomous</th>\n",
       "      <td>-0.104245</td>\n",
       "      <td>-0.145739</td>\n",
       "      <td>0.098689</td>\n",
       "      <td>-0.242449</td>\n",
       "      <td>0.008528</td>\n",
       "      <td>0.087915</td>\n",
       "      <td>0.115391</td>\n",
       "      <td>-0.062344</td>\n",
       "      <td>-0.246611</td>\n",
       "      <td>-0.120752</td>\n",
       "      <td>1.000000</td>\n",
       "      <td>-0.033956</td>\n",
       "      <td>0.022964</td>\n",
       "      <td>-0.162724</td>\n",
       "      <td>-0.003252</td>\n",
       "      <td>-0.183748</td>\n",
       "      <td>0.321476</td>\n",
       "    </tr>\n",
       "    <tr>\n",
       "      <th>fins</th>\n",
       "      <td>-0.280313</td>\n",
       "      <td>-0.223541</td>\n",
       "      <td>0.164796</td>\n",
       "      <td>-0.156328</td>\n",
       "      <td>-0.251157</td>\n",
       "      <td>0.604492</td>\n",
       "      <td>0.190302</td>\n",
       "      <td>0.364292</td>\n",
       "      <td>0.209499</td>\n",
       "      <td>-0.617219</td>\n",
       "      <td>-0.033956</td>\n",
       "      <td>1.000000</td>\n",
       "      <td>-0.605652</td>\n",
       "      <td>0.204349</td>\n",
       "      <td>-0.093887</td>\n",
       "      <td>0.031705</td>\n",
       "      <td>0.099430</td>\n",
       "    </tr>\n",
       "    <tr>\n",
       "      <th>legs</th>\n",
       "      <td>0.394009</td>\n",
       "      <td>-0.206686</td>\n",
       "      <td>-0.224918</td>\n",
       "      <td>0.214196</td>\n",
       "      <td>0.043712</td>\n",
       "      <td>-0.360638</td>\n",
       "      <td>-0.099723</td>\n",
       "      <td>-0.193476</td>\n",
       "      <td>-0.432856</td>\n",
       "      <td>0.369868</td>\n",
       "      <td>0.022964</td>\n",
       "      <td>-0.605652</td>\n",
       "      <td>1.000000</td>\n",
       "      <td>-0.348295</td>\n",
       "      <td>0.073931</td>\n",
       "      <td>0.068791</td>\n",
       "      <td>0.131693</td>\n",
       "    </tr>\n",
       "    <tr>\n",
       "      <th>tail</th>\n",
       "      <td>0.048973</td>\n",
       "      <td>0.292569</td>\n",
       "      <td>-0.221090</td>\n",
       "      <td>0.210026</td>\n",
       "      <td>0.009482</td>\n",
       "      <td>-0.034642</td>\n",
       "      <td>0.018947</td>\n",
       "      <td>0.310368</td>\n",
       "      <td>0.731762</td>\n",
       "      <td>0.088952</td>\n",
       "      <td>-0.162724</td>\n",
       "      <td>0.204349</td>\n",
       "      <td>-0.348295</td>\n",
       "      <td>1.000000</td>\n",
       "      <td>0.023434</td>\n",
       "      <td>0.243277</td>\n",
       "      <td>-0.631830</td>\n",
       "    </tr>\n",
       "    <tr>\n",
       "      <th>domestic</th>\n",
       "      <td>0.207208</td>\n",
       "      <td>0.031586</td>\n",
       "      <td>-0.155610</td>\n",
       "      <td>0.163928</td>\n",
       "      <td>0.063274</td>\n",
       "      <td>-0.224308</td>\n",
       "      <td>-0.309794</td>\n",
       "      <td>0.069430</td>\n",
       "      <td>0.101733</td>\n",
       "      <td>0.124068</td>\n",
       "      <td>-0.003252</td>\n",
       "      <td>-0.093887</td>\n",
       "      <td>0.073931</td>\n",
       "      <td>0.023434</td>\n",
       "      <td>1.000000</td>\n",
       "      <td>0.020073</td>\n",
       "      <td>-0.181043</td>\n",
       "    </tr>\n",
       "    <tr>\n",
       "      <th>catsize</th>\n",
       "      <td>0.455020</td>\n",
       "      <td>-0.135934</td>\n",
       "      <td>-0.514650</td>\n",
       "      <td>0.574906</td>\n",
       "      <td>-0.349768</td>\n",
       "      <td>-0.111866</td>\n",
       "      <td>0.144790</td>\n",
       "      <td>0.344010</td>\n",
       "      <td>0.356976</td>\n",
       "      <td>0.204125</td>\n",
       "      <td>-0.183748</td>\n",
       "      <td>0.031705</td>\n",
       "      <td>0.068791</td>\n",
       "      <td>0.243277</td>\n",
       "      <td>0.020073</td>\n",
       "      <td>1.000000</td>\n",
       "      <td>-0.521030</td>\n",
       "    </tr>\n",
       "    <tr>\n",
       "      <th>type</th>\n",
       "      <td>-0.562384</td>\n",
       "      <td>-0.197520</td>\n",
       "      <td>0.661825</td>\n",
       "      <td>-0.723683</td>\n",
       "      <td>0.022677</td>\n",
       "      <td>0.326639</td>\n",
       "      <td>0.061179</td>\n",
       "      <td>-0.471527</td>\n",
       "      <td>-0.828845</td>\n",
       "      <td>-0.519308</td>\n",
       "      <td>0.321476</td>\n",
       "      <td>0.099430</td>\n",
       "      <td>0.131693</td>\n",
       "      <td>-0.631830</td>\n",
       "      <td>-0.181043</td>\n",
       "      <td>-0.521030</td>\n",
       "      <td>1.000000</td>\n",
       "    </tr>\n",
       "  </tbody>\n",
       "</table>\n",
       "</div>"
      ],
      "text/plain": [
       "              hair  feathers      eggs      milk  airborne   aquatic  \\\n",
       "hair      1.000000 -0.427851 -0.817382  0.878503 -0.198431 -0.473554   \n",
       "feathers -0.427851  1.000000  0.419248 -0.410761  0.656553 -0.058552   \n",
       "eggs     -0.817382  0.419248  1.000000 -0.938848  0.376646  0.376244   \n",
       "milk      0.878503 -0.410761 -0.938848  1.000000 -0.366765 -0.362613   \n",
       "airborne -0.198431  0.656553  0.376646 -0.366765  1.000000 -0.172638   \n",
       "aquatic  -0.473554 -0.058552  0.376244 -0.362613 -0.172638  1.000000   \n",
       "predator -0.154769 -0.104430  0.011605 -0.029721 -0.295181  0.375978   \n",
       "toothed   0.492531 -0.613631 -0.642150  0.628168 -0.594311  0.053150   \n",
       "backbone  0.191681  0.231403 -0.340420  0.384958 -0.104718  0.022463   \n",
       "breathes  0.441149  0.254588 -0.382777  0.423527  0.286039 -0.637506   \n",
       "venomous -0.104245 -0.145739  0.098689 -0.242449  0.008528  0.087915   \n",
       "fins     -0.280313 -0.223541  0.164796 -0.156328 -0.251157  0.604492   \n",
       "legs      0.394009 -0.206686 -0.224918  0.214196  0.043712 -0.360638   \n",
       "tail      0.048973  0.292569 -0.221090  0.210026  0.009482 -0.034642   \n",
       "domestic  0.207208  0.031586 -0.155610  0.163928  0.063274 -0.224308   \n",
       "catsize   0.455020 -0.135934 -0.514650  0.574906 -0.349768 -0.111866   \n",
       "type     -0.562384 -0.197520  0.661825 -0.723683  0.022677  0.326639   \n",
       "\n",
       "          predator   toothed  backbone  breathes  venomous      fins  \\\n",
       "hair     -0.154769  0.492531  0.191681  0.441149 -0.104245 -0.280313   \n",
       "feathers -0.104430 -0.613631  0.231403  0.254588 -0.145739 -0.223541   \n",
       "eggs      0.011605 -0.642150 -0.340420 -0.382777  0.098689  0.164796   \n",
       "milk     -0.029721  0.628168  0.384958  0.423527 -0.242449 -0.156328   \n",
       "airborne -0.295181 -0.594311 -0.104718  0.286039  0.008528 -0.251157   \n",
       "aquatic   0.375978  0.053150  0.022463 -0.637506  0.087915  0.604492   \n",
       "predator  1.000000  0.129452  0.051022 -0.262931  0.115391  0.190302   \n",
       "toothed   0.129452  1.000000  0.575085 -0.065690 -0.062344  0.364292   \n",
       "backbone  0.051022  0.575085  1.000000  0.207666 -0.246611  0.209499   \n",
       "breathes -0.262931 -0.065690  0.207666  1.000000 -0.120752 -0.617219   \n",
       "venomous  0.115391 -0.062344 -0.246611 -0.120752  1.000000 -0.033956   \n",
       "fins      0.190302  0.364292  0.209499 -0.617219 -0.033956  1.000000   \n",
       "legs     -0.099723 -0.193476 -0.432856  0.369868  0.022964 -0.605652   \n",
       "tail      0.018947  0.310368  0.731762  0.088952 -0.162724  0.204349   \n",
       "domestic -0.309794  0.069430  0.101733  0.124068 -0.003252 -0.093887   \n",
       "catsize   0.144790  0.344010  0.356976  0.204125 -0.183748  0.031705   \n",
       "type      0.061179 -0.471527 -0.828845 -0.519308  0.321476  0.099430   \n",
       "\n",
       "              legs      tail  domestic   catsize      type  \n",
       "hair      0.394009  0.048973  0.207208  0.455020 -0.562384  \n",
       "feathers -0.206686  0.292569  0.031586 -0.135934 -0.197520  \n",
       "eggs     -0.224918 -0.221090 -0.155610 -0.514650  0.661825  \n",
       "milk      0.214196  0.210026  0.163928  0.574906 -0.723683  \n",
       "airborne  0.043712  0.009482  0.063274 -0.349768  0.022677  \n",
       "aquatic  -0.360638 -0.034642 -0.224308 -0.111866  0.326639  \n",
       "predator -0.099723  0.018947 -0.309794  0.144790  0.061179  \n",
       "toothed  -0.193476  0.310368  0.069430  0.344010 -0.471527  \n",
       "backbone -0.432856  0.731762  0.101733  0.356976 -0.828845  \n",
       "breathes  0.369868  0.088952  0.124068  0.204125 -0.519308  \n",
       "venomous  0.022964 -0.162724 -0.003252 -0.183748  0.321476  \n",
       "fins     -0.605652  0.204349 -0.093887  0.031705  0.099430  \n",
       "legs      1.000000 -0.348295  0.073931  0.068791  0.131693  \n",
       "tail     -0.348295  1.000000  0.023434  0.243277 -0.631830  \n",
       "domestic  0.073931  0.023434  1.000000  0.020073 -0.181043  \n",
       "catsize   0.068791  0.243277  0.020073  1.000000 -0.521030  \n",
       "type      0.131693 -0.631830 -0.181043 -0.521030  1.000000  "
      ]
     },
     "execution_count": 7,
     "metadata": {},
     "output_type": "execute_result"
    }
   ],
   "source": [
    "df.corr()"
   ]
  },
  {
   "cell_type": "code",
   "execution_count": 8,
   "id": "6b3c4c60",
   "metadata": {},
   "outputs": [
    {
     "data": {
      "text/plain": [
       "<bound method DataFrame.info of     animal name  hair  feathers  eggs  milk  airborne  aquatic  predator  \\\n",
       "0      aardvark     1         0     0     1         0        0         1   \n",
       "1      antelope     1         0     0     1         0        0         0   \n",
       "2          bass     0         0     1     0         0        1         1   \n",
       "3          bear     1         0     0     1         0        0         1   \n",
       "4          boar     1         0     0     1         0        0         1   \n",
       "..          ...   ...       ...   ...   ...       ...      ...       ...   \n",
       "96      wallaby     1         0     0     1         0        0         0   \n",
       "97         wasp     1         0     1     0         1        0         0   \n",
       "98         wolf     1         0     0     1         0        0         1   \n",
       "99         worm     0         0     1     0         0        0         0   \n",
       "100        wren     0         1     1     0         1        0         0   \n",
       "\n",
       "     toothed  backbone  breathes  venomous  fins  legs  tail  domestic  \\\n",
       "0          1         1         1         0     0     4     0         0   \n",
       "1          1         1         1         0     0     4     1         0   \n",
       "2          1         1         0         0     1     0     1         0   \n",
       "3          1         1         1         0     0     4     0         0   \n",
       "4          1         1         1         0     0     4     1         0   \n",
       "..       ...       ...       ...       ...   ...   ...   ...       ...   \n",
       "96         1         1         1         0     0     2     1         0   \n",
       "97         0         0         1         1     0     6     0         0   \n",
       "98         1         1         1         0     0     4     1         0   \n",
       "99         0         0         1         0     0     0     0         0   \n",
       "100        0         1         1         0     0     2     1         0   \n",
       "\n",
       "     catsize  type  \n",
       "0          1     1  \n",
       "1          1     1  \n",
       "2          0     4  \n",
       "3          1     1  \n",
       "4          1     1  \n",
       "..       ...   ...  \n",
       "96         1     1  \n",
       "97         0     6  \n",
       "98         1     1  \n",
       "99         0     7  \n",
       "100        0     2  \n",
       "\n",
       "[101 rows x 18 columns]>"
      ]
     },
     "execution_count": 8,
     "metadata": {},
     "output_type": "execute_result"
    }
   ],
   "source": [
    "df.info"
   ]
  },
  {
   "cell_type": "code",
   "execution_count": 9,
   "id": "ed03544e",
   "metadata": {},
   "outputs": [],
   "source": [
    "#visualizing boxplot"
   ]
  },
  {
   "cell_type": "code",
   "execution_count": 10,
   "id": "bc3740a1",
   "metadata": {},
   "outputs": [
    {
     "data": {
      "text/plain": [
       "<AxesSubplot:>"
      ]
     },
     "execution_count": 10,
     "metadata": {},
     "output_type": "execute_result"
    },
    {
     "data": {
      "image/png": "[encoded data removed]",
      "text/plain": [
       "<Figure size 640x480 with 1 Axes>"
      ]
     },
     "metadata": {},
     "output_type": "display_data"
    }
   ],
   "source": [
    "df.boxplot(vert=False)"
   ]
  },
  {
   "cell_type": "code",
   "execution_count": 11,
   "id": "d0ea65ef",
   "metadata": {},
   "outputs": [],
   "source": [
    "# get the counts of unique values in the 'type' column "
   ]
  },
  {
   "cell_type": "code",
   "execution_count": 12,
   "id": "3c5b7246",
   "metadata": {},
   "outputs": [
    {
     "data": {
      "text/plain": [
       "1    41\n",
       "2    20\n",
       "4    13\n",
       "7    10\n",
       "6     8\n",
       "3     5\n",
       "5     4\n",
       "Name: type, dtype: int64"
      ]
     },
     "execution_count": 12,
     "metadata": {},
     "output_type": "execute_result"
    }
   ],
   "source": [
    "df['type'].value_counts()"
   ]
  },
  {
   "cell_type": "code",
   "execution_count": 13,
   "id": "0a9e6d9c",
   "metadata": {},
   "outputs": [],
   "source": [
    "#LabelEncoder used to convert categorical labels into numerical values."
   ]
  },
  {
   "cell_type": "code",
   "execution_count": 14,
   "id": "23105956",
   "metadata": {},
   "outputs": [
    {
     "data": {
      "text/html": [
       "<div>\n",
       "<style scoped>\n",
       "    .dataframe tbody tr th:only-of-type {\n",
       "        vertical-align: middle;\n",
       "    }\n",
       "\n",
       "    .dataframe tbody tr th {\n",
       "        vertical-align: top;\n",
       "    }\n",
       "\n",
       "    .dataframe thead th {\n",
       "        text-align: right;\n",
       "    }\n",
       "</style>\n",
       "<table border=\"1\" class=\"dataframe\">\n",
       "  <thead>\n",
       "    <tr style=\"text-align: right;\">\n",
       "      <th></th>\n",
       "      <th>animal name</th>\n",
       "      <th>hair</th>\n",
       "      <th>feathers</th>\n",
       "      <th>eggs</th>\n",
       "      <th>milk</th>\n",
       "      <th>airborne</th>\n",
       "      <th>aquatic</th>\n",
       "      <th>predator</th>\n",
       "      <th>toothed</th>\n",
       "      <th>backbone</th>\n",
       "      <th>breathes</th>\n",
       "      <th>venomous</th>\n",
       "      <th>fins</th>\n",
       "      <th>legs</th>\n",
       "      <th>tail</th>\n",
       "      <th>domestic</th>\n",
       "      <th>catsize</th>\n",
       "      <th>type</th>\n",
       "    </tr>\n",
       "  </thead>\n",
       "  <tbody>\n",
       "    <tr>\n",
       "      <th>0</th>\n",
       "      <td>0</td>\n",
       "      <td>1</td>\n",
       "      <td>0</td>\n",
       "      <td>0</td>\n",
       "      <td>1</td>\n",
       "      <td>0</td>\n",
       "      <td>0</td>\n",
       "      <td>1</td>\n",
       "      <td>1</td>\n",
       "      <td>1</td>\n",
       "      <td>1</td>\n",
       "      <td>0</td>\n",
       "      <td>0</td>\n",
       "      <td>4</td>\n",
       "      <td>0</td>\n",
       "      <td>0</td>\n",
       "      <td>1</td>\n",
       "      <td>1</td>\n",
       "    </tr>\n",
       "    <tr>\n",
       "      <th>1</th>\n",
       "      <td>1</td>\n",
       "      <td>1</td>\n",
       "      <td>0</td>\n",
       "      <td>0</td>\n",
       "      <td>1</td>\n",
       "      <td>0</td>\n",
       "      <td>0</td>\n",
       "      <td>0</td>\n",
       "      <td>1</td>\n",
       "      <td>1</td>\n",
       "      <td>1</td>\n",
       "      <td>0</td>\n",
       "      <td>0</td>\n",
       "      <td>4</td>\n",
       "      <td>1</td>\n",
       "      <td>0</td>\n",
       "      <td>1</td>\n",
       "      <td>1</td>\n",
       "    </tr>\n",
       "    <tr>\n",
       "      <th>2</th>\n",
       "      <td>2</td>\n",
       "      <td>0</td>\n",
       "      <td>0</td>\n",
       "      <td>1</td>\n",
       "      <td>0</td>\n",
       "      <td>0</td>\n",
       "      <td>1</td>\n",
       "      <td>1</td>\n",
       "      <td>1</td>\n",
       "      <td>1</td>\n",
       "      <td>0</td>\n",
       "      <td>0</td>\n",
       "      <td>1</td>\n",
       "      <td>0</td>\n",
       "      <td>1</td>\n",
       "      <td>0</td>\n",
       "      <td>0</td>\n",
       "      <td>4</td>\n",
       "    </tr>\n",
       "    <tr>\n",
       "      <th>3</th>\n",
       "      <td>3</td>\n",
       "      <td>1</td>\n",
       "      <td>0</td>\n",
       "      <td>0</td>\n",
       "      <td>1</td>\n",
       "      <td>0</td>\n",
       "      <td>0</td>\n",
       "      <td>1</td>\n",
       "      <td>1</td>\n",
       "      <td>1</td>\n",
       "      <td>1</td>\n",
       "      <td>0</td>\n",
       "      <td>0</td>\n",
       "      <td>4</td>\n",
       "      <td>0</td>\n",
       "      <td>0</td>\n",
       "      <td>1</td>\n",
       "      <td>1</td>\n",
       "    </tr>\n",
       "    <tr>\n",
       "      <th>4</th>\n",
       "      <td>4</td>\n",
       "      <td>1</td>\n",
       "      <td>0</td>\n",
       "      <td>0</td>\n",
       "      <td>1</td>\n",
       "      <td>0</td>\n",
       "      <td>0</td>\n",
       "      <td>1</td>\n",
       "      <td>1</td>\n",
       "      <td>1</td>\n",
       "      <td>1</td>\n",
       "      <td>0</td>\n",
       "      <td>0</td>\n",
       "      <td>4</td>\n",
       "      <td>1</td>\n",
       "      <td>0</td>\n",
       "      <td>1</td>\n",
       "      <td>1</td>\n",
       "    </tr>\n",
       "    <tr>\n",
       "      <th>...</th>\n",
       "      <td>...</td>\n",
       "      <td>...</td>\n",
       "      <td>...</td>\n",
       "      <td>...</td>\n",
       "      <td>...</td>\n",
       "      <td>...</td>\n",
       "      <td>...</td>\n",
       "      <td>...</td>\n",
       "      <td>...</td>\n",
       "      <td>...</td>\n",
       "      <td>...</td>\n",
       "      <td>...</td>\n",
       "      <td>...</td>\n",
       "      <td>...</td>\n",
       "      <td>...</td>\n",
       "      <td>...</td>\n",
       "      <td>...</td>\n",
       "      <td>...</td>\n",
       "    </tr>\n",
       "    <tr>\n",
       "      <th>96</th>\n",
       "      <td>95</td>\n",
       "      <td>1</td>\n",
       "      <td>0</td>\n",
       "      <td>0</td>\n",
       "      <td>1</td>\n",
       "      <td>0</td>\n",
       "      <td>0</td>\n",
       "      <td>0</td>\n",
       "      <td>1</td>\n",
       "      <td>1</td>\n",
       "      <td>1</td>\n",
       "      <td>0</td>\n",
       "      <td>0</td>\n",
       "      <td>2</td>\n",
       "      <td>1</td>\n",
       "      <td>0</td>\n",
       "      <td>1</td>\n",
       "      <td>1</td>\n",
       "    </tr>\n",
       "    <tr>\n",
       "      <th>97</th>\n",
       "      <td>96</td>\n",
       "      <td>1</td>\n",
       "      <td>0</td>\n",
       "      <td>1</td>\n",
       "      <td>0</td>\n",
       "      <td>1</td>\n",
       "      <td>0</td>\n",
       "      <td>0</td>\n",
       "      <td>0</td>\n",
       "      <td>0</td>\n",
       "      <td>1</td>\n",
       "      <td>1</td>\n",
       "      <td>0</td>\n",
       "      <td>6</td>\n",
       "      <td>0</td>\n",
       "      <td>0</td>\n",
       "      <td>0</td>\n",
       "      <td>6</td>\n",
       "    </tr>\n",
       "    <tr>\n",
       "      <th>98</th>\n",
       "      <td>97</td>\n",
       "      <td>1</td>\n",
       "      <td>0</td>\n",
       "      <td>0</td>\n",
       "      <td>1</td>\n",
       "      <td>0</td>\n",
       "      <td>0</td>\n",
       "      <td>1</td>\n",
       "      <td>1</td>\n",
       "      <td>1</td>\n",
       "      <td>1</td>\n",
       "      <td>0</td>\n",
       "      <td>0</td>\n",
       "      <td>4</td>\n",
       "      <td>1</td>\n",
       "      <td>0</td>\n",
       "      <td>1</td>\n",
       "      <td>1</td>\n",
       "    </tr>\n",
       "    <tr>\n",
       "      <th>99</th>\n",
       "      <td>98</td>\n",
       "      <td>0</td>\n",
       "      <td>0</td>\n",
       "      <td>1</td>\n",
       "      <td>0</td>\n",
       "      <td>0</td>\n",
       "      <td>0</td>\n",
       "      <td>0</td>\n",
       "      <td>0</td>\n",
       "      <td>0</td>\n",
       "      <td>1</td>\n",
       "      <td>0</td>\n",
       "      <td>0</td>\n",
       "      <td>0</td>\n",
       "      <td>0</td>\n",
       "      <td>0</td>\n",
       "      <td>0</td>\n",
       "      <td>7</td>\n",
       "    </tr>\n",
       "    <tr>\n",
       "      <th>100</th>\n",
       "      <td>99</td>\n",
       "      <td>0</td>\n",
       "      <td>1</td>\n",
       "      <td>1</td>\n",
       "      <td>0</td>\n",
       "      <td>1</td>\n",
       "      <td>0</td>\n",
       "      <td>0</td>\n",
       "      <td>0</td>\n",
       "      <td>1</td>\n",
       "      <td>1</td>\n",
       "      <td>0</td>\n",
       "      <td>0</td>\n",
       "      <td>2</td>\n",
       "      <td>1</td>\n",
       "      <td>0</td>\n",
       "      <td>0</td>\n",
       "      <td>2</td>\n",
       "    </tr>\n",
       "  </tbody>\n",
       "</table>\n",
       "<p>101 rows × 18 columns</p>\n",
       "</div>"
      ],
      "text/plain": [
       "     animal name  hair  feathers  eggs  milk  airborne  aquatic  predator  \\\n",
       "0              0     1         0     0     1         0        0         1   \n",
       "1              1     1         0     0     1         0        0         0   \n",
       "2              2     0         0     1     0         0        1         1   \n",
       "3              3     1         0     0     1         0        0         1   \n",
       "4              4     1         0     0     1         0        0         1   \n",
       "..           ...   ...       ...   ...   ...       ...      ...       ...   \n",
       "96            95     1         0     0     1         0        0         0   \n",
       "97            96     1         0     1     0         1        0         0   \n",
       "98            97     1         0     0     1         0        0         1   \n",
       "99            98     0         0     1     0         0        0         0   \n",
       "100           99     0         1     1     0         1        0         0   \n",
       "\n",
       "     toothed  backbone  breathes  venomous  fins  legs  tail  domestic  \\\n",
       "0          1         1         1         0     0     4     0         0   \n",
       "1          1         1         1         0     0     4     1         0   \n",
       "2          1         1         0         0     1     0     1         0   \n",
       "3          1         1         1         0     0     4     0         0   \n",
       "4          1         1         1         0     0     4     1         0   \n",
       "..       ...       ...       ...       ...   ...   ...   ...       ...   \n",
       "96         1         1         1         0     0     2     1         0   \n",
       "97         0         0         1         1     0     6     0         0   \n",
       "98         1         1         1         0     0     4     1         0   \n",
       "99         0         0         1         0     0     0     0         0   \n",
       "100        0         1         1         0     0     2     1         0   \n",
       "\n",
       "     catsize  type  \n",
       "0          1     1  \n",
       "1          1     1  \n",
       "2          0     4  \n",
       "3          1     1  \n",
       "4          1     1  \n",
       "..       ...   ...  \n",
       "96         1     1  \n",
       "97         0     6  \n",
       "98         1     1  \n",
       "99         0     7  \n",
       "100        0     2  \n",
       "\n",
       "[101 rows x 18 columns]"
      ]
     },
     "execution_count": 14,
     "metadata": {},
     "output_type": "execute_result"
    }
   ],
   "source": [
    "from sklearn.preprocessing import LabelEncoder\n",
    "LE = LabelEncoder()\n",
    "df['animal name'] = LE.fit_transform(df['animal name'])\n",
    "df"
   ]
  },
  {
   "cell_type": "code",
   "execution_count": 15,
   "id": "6d42e183",
   "metadata": {},
   "outputs": [],
   "source": [
    "# splitting your DataFrame df into features (X) and the target variable (Y)."
   ]
  },
  {
   "cell_type": "code",
   "execution_count": 16,
   "id": "ef51b0b4",
   "metadata": {},
   "outputs": [],
   "source": [
    "X = df.iloc[:,0:17]\n",
    "#(or)X = df.drop('type',axis=1)\n",
    "Y = df['type']"
   ]
  },
  {
   "cell_type": "code",
   "execution_count": 17,
   "id": "1049070e",
   "metadata": {},
   "outputs": [],
   "source": [
    "#split your data into training and testing sets"
   ]
  },
  {
   "cell_type": "code",
   "execution_count": 18,
   "id": "144d7aad",
   "metadata": {},
   "outputs": [
    {
     "data": {
      "text/plain": [
       "((70, 17), (31, 17), (70,), (31,))"
      ]
     },
     "execution_count": 18,
     "metadata": {},
     "output_type": "execute_result"
    }
   ],
   "source": [
    "from sklearn.model_selection import train_test_split\n",
    "X_train,X_test,Y_train,Y_test = train_test_split(X,Y,test_size=0.3)\n",
    "X_train.shape,X_test.shape,Y_train.shape,Y_test.shape"
   ]
  },
  {
   "cell_type": "code",
   "execution_count": 19,
   "id": "bd8a1260",
   "metadata": {},
   "outputs": [],
   "source": [
    "#applied standardization to your feature matrix X"
   ]
  },
  {
   "cell_type": "code",
   "execution_count": 20,
   "id": "8d50fe7d",
   "metadata": {},
   "outputs": [
    {
     "data": {
      "text/html": [
       "<div>\n",
       "<style scoped>\n",
       "    .dataframe tbody tr th:only-of-type {\n",
       "        vertical-align: middle;\n",
       "    }\n",
       "\n",
       "    .dataframe tbody tr th {\n",
       "        vertical-align: top;\n",
       "    }\n",
       "\n",
       "    .dataframe thead th {\n",
       "        text-align: right;\n",
       "    }\n",
       "</style>\n",
       "<table border=\"1\" class=\"dataframe\">\n",
       "  <thead>\n",
       "    <tr style=\"text-align: right;\">\n",
       "      <th></th>\n",
       "      <th>animal name</th>\n",
       "      <th>hair</th>\n",
       "      <th>feathers</th>\n",
       "      <th>eggs</th>\n",
       "      <th>milk</th>\n",
       "      <th>airborne</th>\n",
       "      <th>aquatic</th>\n",
       "      <th>predator</th>\n",
       "      <th>toothed</th>\n",
       "      <th>backbone</th>\n",
       "      <th>breathes</th>\n",
       "      <th>venomous</th>\n",
       "      <th>fins</th>\n",
       "      <th>legs</th>\n",
       "      <th>tail</th>\n",
       "      <th>domestic</th>\n",
       "      <th>catsize</th>\n",
       "    </tr>\n",
       "  </thead>\n",
       "  <tbody>\n",
       "    <tr>\n",
       "      <th>0</th>\n",
       "      <td>-1.708840</td>\n",
       "      <td>1.161395</td>\n",
       "      <td>-0.496904</td>\n",
       "      <td>-1.185227</td>\n",
       "      <td>1.209717</td>\n",
       "      <td>-0.558291</td>\n",
       "      <td>-0.744208</td>\n",
       "      <td>0.896421</td>\n",
       "      <td>0.809776</td>\n",
       "      <td>0.46569</td>\n",
       "      <td>0.512348</td>\n",
       "      <td>-0.293294</td>\n",
       "      <td>-0.449868</td>\n",
       "      <td>0.572540</td>\n",
       "      <td>-1.698416</td>\n",
       "      <td>-0.384353</td>\n",
       "      <td>1.138180</td>\n",
       "    </tr>\n",
       "    <tr>\n",
       "      <th>1</th>\n",
       "      <td>-1.674148</td>\n",
       "      <td>1.161395</td>\n",
       "      <td>-0.496904</td>\n",
       "      <td>-1.185227</td>\n",
       "      <td>1.209717</td>\n",
       "      <td>-0.558291</td>\n",
       "      <td>-0.744208</td>\n",
       "      <td>-1.115547</td>\n",
       "      <td>0.809776</td>\n",
       "      <td>0.46569</td>\n",
       "      <td>0.512348</td>\n",
       "      <td>-0.293294</td>\n",
       "      <td>-0.449868</td>\n",
       "      <td>0.572540</td>\n",
       "      <td>0.588784</td>\n",
       "      <td>-0.384353</td>\n",
       "      <td>1.138180</td>\n",
       "    </tr>\n",
       "    <tr>\n",
       "      <th>2</th>\n",
       "      <td>-1.639456</td>\n",
       "      <td>-0.861034</td>\n",
       "      <td>-0.496904</td>\n",
       "      <td>0.843721</td>\n",
       "      <td>-0.826640</td>\n",
       "      <td>-0.558291</td>\n",
       "      <td>1.343710</td>\n",
       "      <td>0.896421</td>\n",
       "      <td>0.809776</td>\n",
       "      <td>0.46569</td>\n",
       "      <td>-1.951800</td>\n",
       "      <td>-0.293294</td>\n",
       "      <td>2.222876</td>\n",
       "      <td>-1.404435</td>\n",
       "      <td>0.588784</td>\n",
       "      <td>-0.384353</td>\n",
       "      <td>-0.878595</td>\n",
       "    </tr>\n",
       "    <tr>\n",
       "      <th>3</th>\n",
       "      <td>-1.604764</td>\n",
       "      <td>1.161395</td>\n",
       "      <td>-0.496904</td>\n",
       "      <td>-1.185227</td>\n",
       "      <td>1.209717</td>\n",
       "      <td>-0.558291</td>\n",
       "      <td>-0.744208</td>\n",
       "      <td>0.896421</td>\n",
       "      <td>0.809776</td>\n",
       "      <td>0.46569</td>\n",
       "      <td>0.512348</td>\n",
       "      <td>-0.293294</td>\n",
       "      <td>-0.449868</td>\n",
       "      <td>0.572540</td>\n",
       "      <td>-1.698416</td>\n",
       "      <td>-0.384353</td>\n",
       "      <td>1.138180</td>\n",
       "    </tr>\n",
       "    <tr>\n",
       "      <th>4</th>\n",
       "      <td>-1.570072</td>\n",
       "      <td>1.161395</td>\n",
       "      <td>-0.496904</td>\n",
       "      <td>-1.185227</td>\n",
       "      <td>1.209717</td>\n",
       "      <td>-0.558291</td>\n",
       "      <td>-0.744208</td>\n",
       "      <td>0.896421</td>\n",
       "      <td>0.809776</td>\n",
       "      <td>0.46569</td>\n",
       "      <td>0.512348</td>\n",
       "      <td>-0.293294</td>\n",
       "      <td>-0.449868</td>\n",
       "      <td>0.572540</td>\n",
       "      <td>0.588784</td>\n",
       "      <td>-0.384353</td>\n",
       "      <td>1.138180</td>\n",
       "    </tr>\n",
       "    <tr>\n",
       "      <th>...</th>\n",
       "      <td>...</td>\n",
       "      <td>...</td>\n",
       "      <td>...</td>\n",
       "      <td>...</td>\n",
       "      <td>...</td>\n",
       "      <td>...</td>\n",
       "      <td>...</td>\n",
       "      <td>...</td>\n",
       "      <td>...</td>\n",
       "      <td>...</td>\n",
       "      <td>...</td>\n",
       "      <td>...</td>\n",
       "      <td>...</td>\n",
       "      <td>...</td>\n",
       "      <td>...</td>\n",
       "      <td>...</td>\n",
       "      <td>...</td>\n",
       "    </tr>\n",
       "    <tr>\n",
       "      <th>96</th>\n",
       "      <td>1.586903</td>\n",
       "      <td>1.161395</td>\n",
       "      <td>-0.496904</td>\n",
       "      <td>-1.185227</td>\n",
       "      <td>1.209717</td>\n",
       "      <td>-0.558291</td>\n",
       "      <td>-0.744208</td>\n",
       "      <td>-1.115547</td>\n",
       "      <td>0.809776</td>\n",
       "      <td>0.46569</td>\n",
       "      <td>0.512348</td>\n",
       "      <td>-0.293294</td>\n",
       "      <td>-0.449868</td>\n",
       "      <td>-0.415948</td>\n",
       "      <td>0.588784</td>\n",
       "      <td>-0.384353</td>\n",
       "      <td>1.138180</td>\n",
       "    </tr>\n",
       "    <tr>\n",
       "      <th>97</th>\n",
       "      <td>1.621595</td>\n",
       "      <td>1.161395</td>\n",
       "      <td>-0.496904</td>\n",
       "      <td>0.843721</td>\n",
       "      <td>-0.826640</td>\n",
       "      <td>1.791182</td>\n",
       "      <td>-0.744208</td>\n",
       "      <td>-1.115547</td>\n",
       "      <td>-1.234909</td>\n",
       "      <td>-2.14735</td>\n",
       "      <td>0.512348</td>\n",
       "      <td>3.409545</td>\n",
       "      <td>-0.449868</td>\n",
       "      <td>1.561027</td>\n",
       "      <td>-1.698416</td>\n",
       "      <td>-0.384353</td>\n",
       "      <td>-0.878595</td>\n",
       "    </tr>\n",
       "    <tr>\n",
       "      <th>98</th>\n",
       "      <td>1.656287</td>\n",
       "      <td>1.161395</td>\n",
       "      <td>-0.496904</td>\n",
       "      <td>-1.185227</td>\n",
       "      <td>1.209717</td>\n",
       "      <td>-0.558291</td>\n",
       "      <td>-0.744208</td>\n",
       "      <td>0.896421</td>\n",
       "      <td>0.809776</td>\n",
       "      <td>0.46569</td>\n",
       "      <td>0.512348</td>\n",
       "      <td>-0.293294</td>\n",
       "      <td>-0.449868</td>\n",
       "      <td>0.572540</td>\n",
       "      <td>0.588784</td>\n",
       "      <td>-0.384353</td>\n",
       "      <td>1.138180</td>\n",
       "    </tr>\n",
       "    <tr>\n",
       "      <th>99</th>\n",
       "      <td>1.690979</td>\n",
       "      <td>-0.861034</td>\n",
       "      <td>-0.496904</td>\n",
       "      <td>0.843721</td>\n",
       "      <td>-0.826640</td>\n",
       "      <td>-0.558291</td>\n",
       "      <td>-0.744208</td>\n",
       "      <td>-1.115547</td>\n",
       "      <td>-1.234909</td>\n",
       "      <td>-2.14735</td>\n",
       "      <td>0.512348</td>\n",
       "      <td>-0.293294</td>\n",
       "      <td>-0.449868</td>\n",
       "      <td>-1.404435</td>\n",
       "      <td>-1.698416</td>\n",
       "      <td>-0.384353</td>\n",
       "      <td>-0.878595</td>\n",
       "    </tr>\n",
       "    <tr>\n",
       "      <th>100</th>\n",
       "      <td>1.725671</td>\n",
       "      <td>-0.861034</td>\n",
       "      <td>2.012461</td>\n",
       "      <td>0.843721</td>\n",
       "      <td>-0.826640</td>\n",
       "      <td>1.791182</td>\n",
       "      <td>-0.744208</td>\n",
       "      <td>-1.115547</td>\n",
       "      <td>-1.234909</td>\n",
       "      <td>0.46569</td>\n",
       "      <td>0.512348</td>\n",
       "      <td>-0.293294</td>\n",
       "      <td>-0.449868</td>\n",
       "      <td>-0.415948</td>\n",
       "      <td>0.588784</td>\n",
       "      <td>-0.384353</td>\n",
       "      <td>-0.878595</td>\n",
       "    </tr>\n",
       "  </tbody>\n",
       "</table>\n",
       "<p>101 rows × 17 columns</p>\n",
       "</div>"
      ],
      "text/plain": [
       "     animal name      hair  feathers      eggs      milk  airborne   aquatic  \\\n",
       "0      -1.708840  1.161395 -0.496904 -1.185227  1.209717 -0.558291 -0.744208   \n",
       "1      -1.674148  1.161395 -0.496904 -1.185227  1.209717 -0.558291 -0.744208   \n",
       "2      -1.639456 -0.861034 -0.496904  0.843721 -0.826640 -0.558291  1.343710   \n",
       "3      -1.604764  1.161395 -0.496904 -1.185227  1.209717 -0.558291 -0.744208   \n",
       "4      -1.570072  1.161395 -0.496904 -1.185227  1.209717 -0.558291 -0.744208   \n",
       "..           ...       ...       ...       ...       ...       ...       ...   \n",
       "96      1.586903  1.161395 -0.496904 -1.185227  1.209717 -0.558291 -0.744208   \n",
       "97      1.621595  1.161395 -0.496904  0.843721 -0.826640  1.791182 -0.744208   \n",
       "98      1.656287  1.161395 -0.496904 -1.185227  1.209717 -0.558291 -0.744208   \n",
       "99      1.690979 -0.861034 -0.496904  0.843721 -0.826640 -0.558291 -0.744208   \n",
       "100     1.725671 -0.861034  2.012461  0.843721 -0.826640  1.791182 -0.744208   \n",
       "\n",
       "     predator   toothed  backbone  breathes  venomous      fins      legs  \\\n",
       "0    0.896421  0.809776   0.46569  0.512348 -0.293294 -0.449868  0.572540   \n",
       "1   -1.115547  0.809776   0.46569  0.512348 -0.293294 -0.449868  0.572540   \n",
       "2    0.896421  0.809776   0.46569 -1.951800 -0.293294  2.222876 -1.404435   \n",
       "3    0.896421  0.809776   0.46569  0.512348 -0.293294 -0.449868  0.572540   \n",
       "4    0.896421  0.809776   0.46569  0.512348 -0.293294 -0.449868  0.572540   \n",
       "..        ...       ...       ...       ...       ...       ...       ...   \n",
       "96  -1.115547  0.809776   0.46569  0.512348 -0.293294 -0.449868 -0.415948   \n",
       "97  -1.115547 -1.234909  -2.14735  0.512348  3.409545 -0.449868  1.561027   \n",
       "98   0.896421  0.809776   0.46569  0.512348 -0.293294 -0.449868  0.572540   \n",
       "99  -1.115547 -1.234909  -2.14735  0.512348 -0.293294 -0.449868 -1.404435   \n",
       "100 -1.115547 -1.234909   0.46569  0.512348 -0.293294 -0.449868 -0.415948   \n",
       "\n",
       "         tail  domestic   catsize  \n",
       "0   -1.698416 -0.384353  1.138180  \n",
       "1    0.588784 -0.384353  1.138180  \n",
       "2    0.588784 -0.384353 -0.878595  \n",
       "3   -1.698416 -0.384353  1.138180  \n",
       "4    0.588784 -0.384353  1.138180  \n",
       "..        ...       ...       ...  \n",
       "96   0.588784 -0.384353  1.138180  \n",
       "97  -1.698416 -0.384353 -0.878595  \n",
       "98   0.588784 -0.384353  1.138180  \n",
       "99  -1.698416 -0.384353 -0.878595  \n",
       "100  0.588784 -0.384353 -0.878595  \n",
       "\n",
       "[101 rows x 17 columns]"
      ]
     },
     "execution_count": 20,
     "metadata": {},
     "output_type": "execute_result"
    }
   ],
   "source": [
    "from sklearn.preprocessing import StandardScaler\n",
    "ss = StandardScaler()\n",
    "ss_x = ss.fit_transform(X)\n",
    "ss_x = pd.DataFrame(ss_x)\n",
    "ss_x.columns = list(X)\n",
    "ss_x"
   ]
  },
  {
   "cell_type": "code",
   "execution_count": 21,
   "id": "879035cd",
   "metadata": {},
   "outputs": [],
   "source": [
    "#created a KNeighborsClassifier instance with n_neighbors=5 and p=2 (Euclidean distance),then fit the model to your training data."
   ]
  },
  {
   "cell_type": "code",
   "execution_count": 22,
   "id": "24a1399b",
   "metadata": {},
   "outputs": [
    {
     "data": {
      "text/plain": [
       "KNeighborsClassifier()"
      ]
     },
     "execution_count": 22,
     "metadata": {},
     "output_type": "execute_result"
    }
   ],
   "source": [
    "from sklearn.neighbors import KNeighborsClassifier\n",
    "knn = KNeighborsClassifier(n_neighbors=5,p=2)#p-->2 for eucleidian distance\n",
    "knn.fit(X_train,Y_train)"
   ]
  },
  {
   "cell_type": "code",
   "execution_count": 23,
   "id": "00ab7b3e",
   "metadata": {},
   "outputs": [],
   "source": [
    "#obtain predictions on both the training set (X_train) and the test set (X_test)"
   ]
  },
  {
   "cell_type": "code",
   "execution_count": 24,
   "id": "4afd326b",
   "metadata": {},
   "outputs": [],
   "source": [
    "Y_pred_train = knn.predict(X_train)\n",
    "Y_pred_test = knn.predict(X_test)"
   ]
  },
  {
   "cell_type": "code",
   "execution_count": 25,
   "id": "cd284997",
   "metadata": {},
   "outputs": [],
   "source": [
    "#evaluate the performance of your KNN model on both the training set and the test set"
   ]
  },
  {
   "cell_type": "code",
   "execution_count": 26,
   "id": "fd2e1441",
   "metadata": {},
   "outputs": [
    {
     "name": "stdout",
     "output_type": "stream",
     "text": [
      "Training score is 0.5428571428571428\n",
      "Test score is 0.3870967741935484\n"
     ]
    }
   ],
   "source": [
    "from sklearn.metrics import accuracy_score\n",
    "print('Training score is',accuracy_score(Y_train,Y_pred_train))\n",
    "print('Test score is',accuracy_score(Y_test,Y_pred_test))"
   ]
  },
  {
   "cell_type": "code",
   "execution_count": 27,
   "id": "62aba80d",
   "metadata": {},
   "outputs": [],
   "source": [
    "#evaluate the performance of a k-nearest neighbors (knn) classifier. The training and test accuracy scores are computed for each fold, and then the average scores are printed."
   ]
  },
  {
   "cell_type": "code",
   "execution_count": 28,
   "id": "4097fb85",
   "metadata": {},
   "outputs": [
    {
     "name": "stdout",
     "output_type": "stream",
     "text": [
      "Training score is 0.9678086419753086\n",
      "Test score is 0.8899999999999999\n"
     ]
    }
   ],
   "source": [
    "import numpy as np\n",
    "from sklearn.model_selection import KFold\n",
    "kfold = KFold(n_splits=5)\n",
    "\n",
    "train_error = []\n",
    "test_error = []\n",
    "for train_index,test_index in kfold.split(df):\n",
    "    x_train, x_test = ss_x.iloc[train_index], ss_x.iloc[test_index]\n",
    "    y_train, y_test = Y.iloc[train_index], Y.iloc[test_index]\n",
    "    knn.fit(x_train,y_train)\n",
    "    y_pred_train = knn.predict(x_train)\n",
    "    y_pred_test = knn.predict(x_test)\n",
    "    train_error.append(accuracy_score(y_train,y_pred_train))\n",
    "    test_error.append(accuracy_score(y_test,y_pred_test))\n",
    "    \n",
    "print('Training score is',np.mean(train_error))\n",
    "print('Test score is',np.mean(test_error))"
   ]
  },
  {
   "cell_type": "code",
   "execution_count": 29,
   "id": "f3531b93",
   "metadata": {},
   "outputs": [],
   "source": [
    "# fits the model on the training data, makes predictions on both the training and test sets, and then prints the training and test accuracy scores."
   ]
  },
  {
   "cell_type": "code",
   "execution_count": 30,
   "id": "b24a435f",
   "metadata": {},
   "outputs": [
    {
     "name": "stdout",
     "output_type": "stream",
     "text": [
      "Training score is 0.7428571428571429\n",
      "Test score is 0.6129032258064516\n"
     ]
    }
   ],
   "source": [
    "from sklearn.neighbors import KNeighborsClassifier\n",
    "knn = KNeighborsClassifier(n_neighbors=5,p=1)#p-->1 for manhattan distance\n",
    "knn.fit(X_train,Y_train)\n",
    "Y_pred_train = knn.predict(X_train)\n",
    "Y_pred_test = knn.predict(X_test)\n",
    "from sklearn.metrics import accuracy_score\n",
    "print('Training score is',accuracy_score(Y_train,Y_pred_train))\n",
    "print('Test score is',accuracy_score(Y_test,Y_pred_test))"
   ]
  },
  {
   "cell_type": "code",
   "execution_count": 31,
   "id": "a86b61da",
   "metadata": {},
   "outputs": [],
   "source": [
    "#k-fold cross-validation for evaluating the performance of the k-nearest neighbors classifier. This allows a more robust assessment by splitting the data into multiple folds and calculating average scores."
   ]
  },
  {
   "cell_type": "code",
   "execution_count": 32,
   "id": "1e3af705",
   "metadata": {},
   "outputs": [
    {
     "name": "stdout",
     "output_type": "stream",
     "text": [
      "Training score is 0.9628395061728394\n",
      "Test score is 0.9099999999999999\n"
     ]
    }
   ],
   "source": [
    "import numpy as np\n",
    "from sklearn.model_selection import KFold\n",
    "kfold = KFold(n_splits=5)\n",
    "\n",
    "train_error = []\n",
    "test_error = []\n",
    "for train_index,test_index in kfold.split(df):\n",
    "    x_train, x_test = ss_x.iloc[train_index], ss_x.iloc[test_index]\n",
    "    y_train, y_test = Y.iloc[train_index], Y.iloc[test_index]\n",
    "    knn.fit(x_train,y_train)\n",
    "    y_pred_train = knn.predict(x_train)\n",
    "    y_pred_test = knn.predict(x_test)\n",
    "    train_error.append(accuracy_score(y_train,y_pred_train))\n",
    "    test_error.append(accuracy_score(y_test,y_pred_test))\n",
    "    \n",
    "print('Training score is',np.mean(train_error))\n",
    "print('Test score is',np.mean(test_error))"
   ]
  },
  {
   "cell_type": "code",
   "execution_count": 33,
   "id": "691c89c9",
   "metadata": {},
   "outputs": [],
   "source": [
    "# fits the model on the training data, makes predictions on both the training and test sets, and then prints the training and test accuracy scores."
   ]
  },
  {
   "cell_type": "code",
   "execution_count": 34,
   "id": "11acc3e6",
   "metadata": {},
   "outputs": [
    {
     "name": "stdout",
     "output_type": "stream",
     "text": [
      "Training score is 0.5571428571428572\n",
      "Test score is 0.41935483870967744\n"
     ]
    }
   ],
   "source": [
    "from sklearn.neighbors import KNeighborsClassifier\n",
    "knn = KNeighborsClassifier(n_neighbors=7,p=2)\n",
    "knn.fit(X_train,Y_train)\n",
    "Y_pred_train = knn.predict(X_train)\n",
    "Y_pred_test = knn.predict(X_test)\n",
    "from sklearn.metrics import accuracy_score\n",
    "print('Training score is',accuracy_score(Y_train,Y_pred_train))\n",
    "print('Test score is',accuracy_score(Y_test,Y_pred_test))"
   ]
  },
  {
   "cell_type": "code",
   "execution_count": 35,
   "id": "e6b7c316",
   "metadata": {},
   "outputs": [],
   "source": [
    "#k-fold cross-validation for evaluating the performance of the k-nearest neighbors classifier. This allows a more robust assessment by splitting the data into multiple folds and calculating average scores."
   ]
  },
  {
   "cell_type": "code",
   "execution_count": 36,
   "id": "2d2a2e43",
   "metadata": {},
   "outputs": [
    {
     "name": "stdout",
     "output_type": "stream",
     "text": [
      "Training score is 0.9281481481481482\n",
      "Test score is 0.840952380952381\n"
     ]
    }
   ],
   "source": [
    "import numpy as np\n",
    "from sklearn.model_selection import KFold\n",
    "kfold = KFold(n_splits=5)\n",
    "\n",
    "train_error = []\n",
    "test_error = []\n",
    "for train_index,test_index in kfold.split(df):\n",
    "    x_train, x_test = ss_x.iloc[train_index], ss_x.iloc[test_index]\n",
    "    y_train, y_test = Y.iloc[train_index], Y.iloc[test_index]\n",
    "    knn.fit(x_train,y_train)\n",
    "    y_pred_train = knn.predict(x_train)\n",
    "    y_pred_test = knn.predict(x_test)\n",
    "    train_error.append(accuracy_score(y_train,y_pred_train))\n",
    "    test_error.append(accuracy_score(y_test,y_pred_test))\n",
    "    \n",
    "print('Training score is',np.mean(train_error))\n",
    "print('Test score is',np.mean(test_error))"
   ]
  },
  {
   "cell_type": "code",
   "execution_count": 37,
   "id": "f77a6ec6",
   "metadata": {},
   "outputs": [],
   "source": [
    "# fits the model on the training data, makes predictions on both the training and test sets, and then prints the training and test accuracy scores."
   ]
  },
  {
   "cell_type": "code",
   "execution_count": 38,
   "id": "1750b216",
   "metadata": {},
   "outputs": [
    {
     "name": "stdout",
     "output_type": "stream",
     "text": [
      "Training score is 0.6428571428571429\n",
      "Test score is 0.5806451612903226\n"
     ]
    }
   ],
   "source": [
    "from sklearn.neighbors import KNeighborsClassifier\n",
    "knn = KNeighborsClassifier(n_neighbors=7,p=1)\n",
    "knn.fit(X_train,Y_train)\n",
    "Y_pred_train = knn.predict(X_train)\n",
    "Y_pred_test = knn.predict(X_test)\n",
    "from sklearn.metrics import accuracy_score\n",
    "print('Training score is',accuracy_score(Y_train,Y_pred_train))\n",
    "print('Test score is',accuracy_score(Y_test,Y_pred_test))"
   ]
  },
  {
   "cell_type": "code",
   "execution_count": 39,
   "id": "49ff288f",
   "metadata": {},
   "outputs": [],
   "source": [
    "#k-fold cross-validation for evaluating the performance of the k-nearest neighbors classifier. This allows a more robust assessment by splitting the data into multiple folds and calculating average scores."
   ]
  },
  {
   "cell_type": "code",
   "execution_count": 40,
   "id": "80bcfef8",
   "metadata": {},
   "outputs": [
    {
     "name": "stdout",
     "output_type": "stream",
     "text": [
      "Training score is 0.9455555555555556\n",
      "Test score is 0.89\n"
     ]
    }
   ],
   "source": [
    "import numpy as np\n",
    "from sklearn.model_selection import KFold\n",
    "kfold = KFold(n_splits=5)\n",
    "\n",
    "train_error = []\n",
    "test_error = []\n",
    "for train_index,test_index in kfold.split(df):\n",
    "    x_train, x_test = ss_x.iloc[train_index], ss_x.iloc[test_index]\n",
    "    y_train, y_test = Y.iloc[train_index], Y.iloc[test_index]\n",
    "    knn.fit(x_train,y_train)\n",
    "    y_pred_train = knn.predict(x_train)\n",
    "    y_pred_test = knn.predict(x_test)\n",
    "    train_error.append(accuracy_score(y_train,y_pred_train))\n",
    "    test_error.append(accuracy_score(y_test,y_pred_test))\n",
    "    \n",
    "print('Training score is',np.mean(train_error))\n",
    "print('Test score is',np.mean(test_error))"
   ]
  },
  {
   "cell_type": "code",
   "execution_count": 41,
   "id": "706ecd8e",
   "metadata": {},
   "outputs": [],
   "source": [
    "# fits the model on the training data, makes predictions on both the training and test sets, and then prints the training and test accuracy scores."
   ]
  },
  {
   "cell_type": "code",
   "execution_count": 42,
   "id": "d054c1e3",
   "metadata": {},
   "outputs": [
    {
     "name": "stdout",
     "output_type": "stream",
     "text": [
      "Training score is 0.42857142857142855\n",
      "Test score is 0.3548387096774194\n"
     ]
    }
   ],
   "source": [
    "from sklearn.neighbors import KNeighborsClassifier\n",
    "knn = KNeighborsClassifier(n_neighbors=10,p=2)\n",
    "knn.fit(X_train,Y_train)\n",
    "Y_pred_train = knn.predict(X_train)\n",
    "Y_pred_test = knn.predict(X_test)\n",
    "from sklearn.metrics import accuracy_score\n",
    "print('Training score is',accuracy_score(Y_train,Y_pred_train))\n",
    "print('Test score is',accuracy_score(Y_test,Y_pred_test))"
   ]
  },
  {
   "cell_type": "code",
   "execution_count": 43,
   "id": "c197a0c3",
   "metadata": {},
   "outputs": [],
   "source": [
    "#k-fold cross-validation for evaluating the performance of the k-nearest neighbors classifier. This allows a more robust assessment by splitting the data into multiple folds and calculating average scores."
   ]
  },
  {
   "cell_type": "code",
   "execution_count": 44,
   "id": "65925f05",
   "metadata": {},
   "outputs": [
    {
     "name": "stdout",
     "output_type": "stream",
     "text": [
      "Training score is 0.9058641975308642\n",
      "Test score is 0.8304761904761904\n"
     ]
    }
   ],
   "source": [
    "import numpy as np\n",
    "from sklearn.model_selection import KFold\n",
    "kfold = KFold(n_splits=5)\n",
    "\n",
    "train_error = []\n",
    "test_error = []\n",
    "for train_index,test_index in kfold.split(df):\n",
    "    x_train, x_test = ss_x.iloc[train_index], ss_x.iloc[test_index]\n",
    "    y_train, y_test = Y.iloc[train_index], Y.iloc[test_index]\n",
    "    knn.fit(x_train,y_train)\n",
    "    y_pred_train = knn.predict(x_train)\n",
    "    y_pred_test = knn.predict(x_test)\n",
    "    train_error.append(accuracy_score(y_train,y_pred_train))\n",
    "    test_error.append(accuracy_score(y_test,y_pred_test))\n",
    "    \n",
    "print('Training score is',np.mean(train_error))\n",
    "print('Test score is',np.mean(test_error))"
   ]
  },
  {
   "cell_type": "code",
   "execution_count": 45,
   "id": "837d5d89",
   "metadata": {},
   "outputs": [],
   "source": [
    "# fits the model on the training data, makes predictions on both the training and test sets, and then prints the training and test accuracy scores."
   ]
  },
  {
   "cell_type": "code",
   "execution_count": 46,
   "id": "a99755bc",
   "metadata": {},
   "outputs": [
    {
     "name": "stdout",
     "output_type": "stream",
     "text": [
      "Training score is 0.6\n",
      "Test score is 0.4838709677419355\n"
     ]
    }
   ],
   "source": [
    "from sklearn.neighbors import KNeighborsClassifier\n",
    "knn = KNeighborsClassifier(n_neighbors=10,p=1)\n",
    "knn.fit(X_train,Y_train)\n",
    "Y_pred_train = knn.predict(X_train)\n",
    "Y_pred_test = knn.predict(X_test)\n",
    "from sklearn.metrics import accuracy_score\n",
    "print('Training score is',accuracy_score(Y_train,Y_pred_train))\n",
    "print('Test score is',accuracy_score(Y_test,Y_pred_test))"
   ]
  },
  {
   "cell_type": "code",
   "execution_count": 47,
   "id": "8c150693",
   "metadata": {},
   "outputs": [],
   "source": [
    "#k-fold cross-validation for evaluating the performance of the k-nearest neighbors classifier. This allows a more robust assessment by splitting the data into multiple folds and calculating average scores."
   ]
  },
  {
   "cell_type": "code",
   "execution_count": 48,
   "id": "2b12ae65",
   "metadata": {},
   "outputs": [
    {
     "name": "stdout",
     "output_type": "stream",
     "text": [
      "Training score is 0.9256790123456791\n",
      "Test score is 0.840952380952381\n"
     ]
    }
   ],
   "source": [
    "import numpy as np\n",
    "from sklearn.model_selection import KFold\n",
    "kfold = KFold(n_splits=5)\n",
    "\n",
    "train_error = []\n",
    "test_error = []\n",
    "for train_index,test_index in kfold.split(df):\n",
    "    x_train, x_test = ss_x.iloc[train_index], ss_x.iloc[test_index]\n",
    "    y_train, y_test = Y.iloc[train_index], Y.iloc[test_index]\n",
    "    knn.fit(x_train,y_train)\n",
    "    y_pred_train = knn.predict(x_train)\n",
    "    y_pred_test = knn.predict(x_test)\n",
    "    train_error.append(accuracy_score(y_train,y_pred_train))\n",
    "    test_error.append(accuracy_score(y_test,y_pred_test))\n",
    "    \n",
    "print('Training score is',np.mean(train_error))\n",
    "print('Test score is',np.mean(test_error))"
   ]
  },
  {
   "cell_type": "code",
   "execution_count": 49,
   "id": "d513feee",
   "metadata": {},
   "outputs": [],
   "source": [
    "# fits the model on the training data, makes predictions on both the training and test sets, and then prints the training and test accuracy scores."
   ]
  },
  {
   "cell_type": "code",
   "execution_count": 50,
   "id": "346fdc8c",
   "metadata": {},
   "outputs": [
    {
     "name": "stdout",
     "output_type": "stream",
     "text": [
      "Training score is 0.6142857142857143\n",
      "Test score is 0.41935483870967744\n"
     ]
    }
   ],
   "source": [
    "from sklearn.neighbors import KNeighborsClassifier\n",
    "knn = KNeighborsClassifier(n_neighbors=4,p=2)\n",
    "knn.fit(X_train,Y_train)\n",
    "Y_pred_train = knn.predict(X_train)\n",
    "Y_pred_test = knn.predict(X_test)\n",
    "from sklearn.metrics import accuracy_score\n",
    "print('Training score is',accuracy_score(Y_train,Y_pred_train))\n",
    "print('Test score is',accuracy_score(Y_test,Y_pred_test))"
   ]
  },
  {
   "cell_type": "code",
   "execution_count": 51,
   "id": "802cf471",
   "metadata": {},
   "outputs": [],
   "source": [
    "#k-fold cross-validation for evaluating the performance of the k-nearest neighbors classifier. This allows a more robust assessment by splitting the data into multiple folds and calculating average scores."
   ]
  },
  {
   "cell_type": "code",
   "execution_count": 52,
   "id": "1427e805",
   "metadata": {},
   "outputs": [
    {
     "name": "stdout",
     "output_type": "stream",
     "text": [
      "Training score is 0.9603395061728394\n",
      "Test score is 0.9\n"
     ]
    }
   ],
   "source": [
    "import numpy as np\n",
    "from sklearn.model_selection import KFold\n",
    "kfold = KFold(n_splits=5)\n",
    "\n",
    "train_error = []\n",
    "test_error = []\n",
    "for train_index,test_index in kfold.split(df):\n",
    "    x_train, x_test = ss_x.iloc[train_index], ss_x.iloc[test_index]\n",
    "    y_train, y_test = Y.iloc[train_index], Y.iloc[test_index]\n",
    "    knn.fit(x_train,y_train)\n",
    "    y_pred_train = knn.predict(x_train)\n",
    "    y_pred_test = knn.predict(x_test)\n",
    "    train_error.append(accuracy_score(y_train,y_pred_train))\n",
    "    test_error.append(accuracy_score(y_test,y_pred_test))\n",
    "    \n",
    "print('Training score is',np.mean(train_error))\n",
    "print('Test score is',np.mean(test_error))"
   ]
  },
  {
   "cell_type": "code",
   "execution_count": 53,
   "id": "5d30014d",
   "metadata": {},
   "outputs": [],
   "source": [
    "# fits the model on the training data, makes predictions on both the training and test sets, and then prints the training and test accuracy scores."
   ]
  },
  {
   "cell_type": "code",
   "execution_count": 54,
   "id": "7365e100",
   "metadata": {},
   "outputs": [
    {
     "name": "stdout",
     "output_type": "stream",
     "text": [
      "Training score is 0.7857142857142857\n",
      "Test score is 0.6774193548387096\n"
     ]
    }
   ],
   "source": [
    "from sklearn.neighbors import KNeighborsClassifier\n",
    "knn = KNeighborsClassifier(n_neighbors=4,p=1)\n",
    "knn.fit(X_train,Y_train)\n",
    "Y_pred_train = knn.predict(X_train)\n",
    "Y_pred_test = knn.predict(X_test)\n",
    "from sklearn.metrics import accuracy_score\n",
    "print('Training score is',accuracy_score(Y_train,Y_pred_train))\n",
    "print('Test score is',accuracy_score(Y_test,Y_pred_test))"
   ]
  },
  {
   "cell_type": "code",
   "execution_count": 55,
   "id": "21ed6c2c",
   "metadata": {},
   "outputs": [],
   "source": [
    "#k-fold cross-validation for evaluating the performance of the k-nearest neighbors classifier. This allows a more robust assessment by splitting the data into multiple folds and calculating average scores."
   ]
  },
  {
   "cell_type": "code",
   "execution_count": 56,
   "id": "79a196fe",
   "metadata": {},
   "outputs": [
    {
     "name": "stdout",
     "output_type": "stream",
     "text": [
      "Training score is 0.9652777777777777\n",
      "Test score is 0.9099999999999999\n"
     ]
    }
   ],
   "source": [
    "import numpy as np\n",
    "from sklearn.model_selection import KFold\n",
    "kfold = KFold(n_splits=5)\n",
    "\n",
    "train_error = []\n",
    "test_error = []\n",
    "for train_index,test_index in kfold.split(df):\n",
    "    x_train, x_test = ss_x.iloc[train_index], ss_x.iloc[test_index]\n",
    "    y_train, y_test = Y.iloc[train_index], Y.iloc[test_index]\n",
    "    knn.fit(x_train,y_train)\n",
    "    y_pred_train = knn.predict(x_train)\n",
    "    y_pred_test = knn.predict(x_test)\n",
    "    train_error.append(accuracy_score(y_train,y_pred_train))\n",
    "    test_error.append(accuracy_score(y_test,y_pred_test))\n",
    "    \n",
    "print('Training score is',np.mean(train_error))\n",
    "print('Test score is',np.mean(test_error))"
   ]
  },
  {
   "cell_type": "code",
   "execution_count": 57,
   "id": "303b2ff9",
   "metadata": {},
   "outputs": [],
   "source": [
    "# fits the model on the training data, makes predictions on both the training and test sets, and then prints the training and test accuracy scores."
   ]
  },
  {
   "cell_type": "code",
   "execution_count": 58,
   "id": "c6f4abb2",
   "metadata": {},
   "outputs": [
    {
     "name": "stdout",
     "output_type": "stream",
     "text": [
      "Training score is 0.7142857142857143\n",
      "Test score is 0.4838709677419355\n"
     ]
    }
   ],
   "source": [
    "from sklearn.neighbors import KNeighborsClassifier\n",
    "knn = KNeighborsClassifier(n_neighbors=2,p=2)\n",
    "knn.fit(X_train,Y_train)\n",
    "Y_pred_train = knn.predict(X_train)\n",
    "Y_pred_test = knn.predict(X_test)\n",
    "from sklearn.metrics import accuracy_score\n",
    "print('Training score is',accuracy_score(Y_train,Y_pred_train))\n",
    "print('Test score is',accuracy_score(Y_test,Y_pred_test))"
   ]
  },
  {
   "cell_type": "code",
   "execution_count": 59,
   "id": "0cc63f58",
   "metadata": {},
   "outputs": [],
   "source": [
    "#k-fold cross-validation for evaluating the performance of the k-nearest neighbors classifier. This allows a more robust assessment by splitting the data into multiple folds and calculating average scores."
   ]
  },
  {
   "cell_type": "code",
   "execution_count": 60,
   "id": "53e1273f",
   "metadata": {},
   "outputs": [
    {
     "name": "stdout",
     "output_type": "stream",
     "text": [
      "Training score is 0.975246913580247\n",
      "Test score is 0.9199999999999999\n"
     ]
    }
   ],
   "source": [
    "import numpy as np\n",
    "from sklearn.model_selection import KFold\n",
    "kfold = KFold(n_splits=5)\n",
    "\n",
    "train_error = []\n",
    "test_error = []\n",
    "for train_index,test_index in kfold.split(df):\n",
    "    x_train, x_test = ss_x.iloc[train_index], ss_x.iloc[test_index]\n",
    "    y_train, y_test = Y.iloc[train_index], Y.iloc[test_index]\n",
    "    knn.fit(x_train,y_train)\n",
    "    y_pred_train = knn.predict(x_train)\n",
    "    y_pred_test = knn.predict(x_test)\n",
    "    train_error.append(accuracy_score(y_train,y_pred_train))\n",
    "    test_error.append(accuracy_score(y_test,y_pred_test))\n",
    "    \n",
    "print('Training score is',np.mean(train_error))\n",
    "print('Test score is',np.mean(test_error))"
   ]
  },
  {
   "cell_type": "code",
   "execution_count": 61,
   "id": "0326e1f7",
   "metadata": {},
   "outputs": [],
   "source": [
    "# fits the model on the training data, makes predictions on both the training and test sets, and then prints the training and test accuracy scores."
   ]
  },
  {
   "cell_type": "code",
   "execution_count": 62,
   "id": "8052ac7d",
   "metadata": {},
   "outputs": [
    {
     "name": "stdout",
     "output_type": "stream",
     "text": [
      "Training score is 0.8571428571428571\n",
      "Test score is 0.8387096774193549\n"
     ]
    }
   ],
   "source": [
    "from sklearn.neighbors import KNeighborsClassifier\n",
    "knn = KNeighborsClassifier(n_neighbors=2,p=1)\n",
    "knn.fit(X_train,Y_train)\n",
    "Y_pred_train = knn.predict(X_train)\n",
    "Y_pred_test = knn.predict(X_test)\n",
    "from sklearn.metrics import accuracy_score\n",
    "print('Training score is',accuracy_score(Y_train,Y_pred_train))\n",
    "print('Test score is',accuracy_score(Y_test,Y_pred_test))"
   ]
  },
  {
   "cell_type": "code",
   "execution_count": 63,
   "id": "e6b9904b",
   "metadata": {},
   "outputs": [],
   "source": [
    "#k-fold cross-validation for evaluating the performance of the k-nearest neighbors classifier. This allows a more robust assessment by splitting the data into multiple folds and calculating average scores."
   ]
  },
  {
   "cell_type": "code",
   "execution_count": 64,
   "id": "c4e4ecaf",
   "metadata": {},
   "outputs": [
    {
     "name": "stdout",
     "output_type": "stream",
     "text": [
      "Training score is 0.980185185185185\n",
      "Test score is 0.9299999999999999\n"
     ]
    }
   ],
   "source": [
    "import numpy as np\n",
    "from sklearn.model_selection import KFold\n",
    "kfold = KFold(n_splits=5)\n",
    "\n",
    "train_error = []\n",
    "test_error = []\n",
    "for train_index,test_index in kfold.split(df):\n",
    "    x_train, x_test = ss_x.iloc[train_index], ss_x.iloc[test_index]\n",
    "    y_train, y_test = Y.iloc[train_index], Y.iloc[test_index]\n",
    "    knn.fit(x_train,y_train)\n",
    "    y_pred_train = knn.predict(x_train)\n",
    "    y_pred_test = knn.predict(x_test)\n",
    "    train_error.append(accuracy_score(y_train,y_pred_train))\n",
    "    test_error.append(accuracy_score(y_test,y_pred_test))\n",
    "    \n",
    "print('Training score is',np.mean(train_error))\n",
    "print('Test score is',np.mean(test_error))"
   ]
  },
  {
   "cell_type": "code",
   "execution_count": 65,
   "id": "eaed595c",
   "metadata": {},
   "outputs": [],
   "source": [
    "# fits the model on the training data, makes predictions on both the training and test sets, and then prints the training and test accuracy scores."
   ]
  },
  {
   "cell_type": "code",
   "execution_count": 66,
   "id": "7d7edd3f",
   "metadata": {},
   "outputs": [
    {
     "name": "stdout",
     "output_type": "stream",
     "text": [
      "Training score is 1.0\n",
      "Test score is 0.5161290322580645\n"
     ]
    }
   ],
   "source": [
    "from sklearn.neighbors import KNeighborsClassifier\n",
    "knn = KNeighborsClassifier(n_neighbors=1,p=2)\n",
    "knn.fit(X_train,Y_train)\n",
    "Y_pred_train = knn.predict(X_train)\n",
    "Y_pred_test = knn.predict(X_test)\n",
    "from sklearn.metrics import accuracy_score\n",
    "print('Training score is',accuracy_score(Y_train,Y_pred_train))\n",
    "print('Test score is',accuracy_score(Y_test,Y_pred_test))"
   ]
  },
  {
   "cell_type": "code",
   "execution_count": 67,
   "id": "40c40c37",
   "metadata": {},
   "outputs": [],
   "source": [
    "#k-fold cross-validation for evaluating the performance of the k-nearest neighbors classifier. This allows a more robust assessment by splitting the data into multiple folds and calculating average scores."
   ]
  },
  {
   "cell_type": "code",
   "execution_count": 68,
   "id": "7b3590d0",
   "metadata": {},
   "outputs": [
    {
     "name": "stdout",
     "output_type": "stream",
     "text": [
      "Training score is 1.0\n",
      "Test score is 0.93\n"
     ]
    }
   ],
   "source": [
    "import numpy as np\n",
    "from sklearn.model_selection import KFold\n",
    "kfold = KFold(n_splits=5)\n",
    "\n",
    "train_error = []\n",
    "test_error = []\n",
    "for train_index,test_index in kfold.split(df):\n",
    "    x_train, x_test = ss_x.iloc[train_index], ss_x.iloc[test_index]\n",
    "    y_train, y_test = Y.iloc[train_index], Y.iloc[test_index]\n",
    "    knn.fit(x_train,y_train)\n",
    "    y_pred_train = knn.predict(x_train)\n",
    "    y_pred_test = knn.predict(x_test)\n",
    "    train_error.append(accuracy_score(y_train,y_pred_train))\n",
    "    test_error.append(accuracy_score(y_test,y_pred_test))\n",
    "    \n",
    "print('Training score is',np.mean(train_error))\n",
    "print('Test score is',np.mean(test_error))"
   ]
  },
  {
   "cell_type": "code",
   "execution_count": 69,
   "id": "9a47ad4e",
   "metadata": {},
   "outputs": [],
   "source": [
    "# fits the model on the training data, makes predictions on both the training and test sets, and then prints the training and test accuracy scores."
   ]
  },
  {
   "cell_type": "code",
   "execution_count": 70,
   "id": "9076d700",
   "metadata": {},
   "outputs": [
    {
     "name": "stdout",
     "output_type": "stream",
     "text": [
      "Training score is 1.0\n",
      "Test score is 0.7419354838709677\n"
     ]
    }
   ],
   "source": [
    "from sklearn.neighbors import KNeighborsClassifier\n",
    "knn = KNeighborsClassifier(n_neighbors=1,p=1)\n",
    "knn.fit(X_train,Y_train)\n",
    "Y_pred_train = knn.predict(X_train)\n",
    "Y_pred_test = knn.predict(X_test)\n",
    "from sklearn.metrics import accuracy_score\n",
    "print('Training score is',accuracy_score(Y_train,Y_pred_train))\n",
    "print('Test score is',accuracy_score(Y_test,Y_pred_test))"
   ]
  },
  {
   "cell_type": "code",
   "execution_count": 71,
   "id": "7ea24c3d",
   "metadata": {},
   "outputs": [],
   "source": [
    "#k-fold cross-validation for evaluating the performance of the k-nearest neighbors classifier. This allows a more robust assessment by splitting the data into multiple folds and calculating average scores."
   ]
  },
  {
   "cell_type": "code",
   "execution_count": 72,
   "id": "616ce243",
   "metadata": {},
   "outputs": [
    {
     "name": "stdout",
     "output_type": "stream",
     "text": [
      "Training score is 1.0\n",
      "Test score is 0.95\n"
     ]
    }
   ],
   "source": [
    "import numpy as np\n",
    "from sklearn.model_selection import KFold\n",
    "kfold = KFold(n_splits=5)\n",
    "\n",
    "train_error = []\n",
    "test_error = []\n",
    "for train_index,test_index in kfold.split(df):\n",
    "    x_train, x_test = ss_x.iloc[train_index], ss_x.iloc[test_index]\n",
    "    y_train, y_test = Y.iloc[train_index], Y.iloc[test_index]\n",
    "    knn.fit(x_train,y_train)\n",
    "    y_pred_train = knn.predict(x_train)\n",
    "    y_pred_test = knn.predict(x_test)\n",
    "    train_error.append(accuracy_score(y_train,y_pred_train))\n",
    "    test_error.append(accuracy_score(y_test,y_pred_test))\n",
    "    \n",
    "print('Training score is',np.mean(train_error))\n",
    "print('Test score is',np.mean(test_error))"
   ]
  },
  {
   "cell_type": "markdown",
   "id": "38327c49",
   "metadata": {},
   "source": [
    "# **As we see from the above data we conclude that by increasing n_neighbors the Accuracy Score will decrease and by using\n",
    "# **Manhattan distance we are getting high Accuracy Score than Eucledian distance and by decreasing n_neighbors the Accuracy Score \n",
    "# will get increasing.\n",
    "# **And also by using kfold we are getting a better improvement in every knn model."
   ]
  },
  {
   "cell_type": "markdown",
   "id": "084446d5",
   "metadata": {},
   "source": [
    "# Q2).Prepare a model for glass classification using KNN\n",
    "\n",
    "# Data Description:\n",
    "\n",
    "# RI : refractive index\n",
    "\n",
    "# Na: Sodium (unit measurement: weight percent in corresponding oxide, as are attributes 4-10)\n",
    "\n",
    "# Mg: Magnesium\n",
    "\n",
    "# AI: Aluminum\n",
    "\n",
    "# Si: Silicon\n",
    "\n",
    "# K:Potassium\n",
    "\n",
    "# Ca: Calcium\n",
    "\n",
    "# Ba: Barium\n",
    "\n",
    "# Fe: Iron\n",
    "\n",
    "# Type: Type of glass: (class attribute)\n",
    "# 1 -- building_windows_float_processed\n",
    "# 2 --building_windows_non_float_processed\n",
    "# 3 --vehicle_windows_float_processed\n",
    "# 4 --vehicle_windows_non_float_processed (none in this database)\n",
    "# 5 --containers\n",
    "# 6 --tableware\n",
    "# 7 --headlamps"
   ]
  },
  {
   "cell_type": "code",
   "execution_count": 73,
   "id": "23411177",
   "metadata": {},
   "outputs": [],
   "source": [
    "#importing pandas and loading data"
   ]
  },
  {
   "cell_type": "code",
   "execution_count": 74,
   "id": "0424369f",
   "metadata": {},
   "outputs": [
    {
     "data": {
      "text/html": [
       "<div>\n",
       "<style scoped>\n",
       "    .dataframe tbody tr th:only-of-type {\n",
       "        vertical-align: middle;\n",
       "    }\n",
       "\n",
       "    .dataframe tbody tr th {\n",
       "        vertical-align: top;\n",
       "    }\n",
       "\n",
       "    .dataframe thead th {\n",
       "        text-align: right;\n",
       "    }\n",
       "</style>\n",
       "<table border=\"1\" class=\"dataframe\">\n",
       "  <thead>\n",
       "    <tr style=\"text-align: right;\">\n",
       "      <th></th>\n",
       "      <th>RI</th>\n",
       "      <th>Na</th>\n",
       "      <th>Mg</th>\n",
       "      <th>Al</th>\n",
       "      <th>Si</th>\n",
       "      <th>K</th>\n",
       "      <th>Ca</th>\n",
       "      <th>Ba</th>\n",
       "      <th>Fe</th>\n",
       "      <th>Type</th>\n",
       "    </tr>\n",
       "  </thead>\n",
       "  <tbody>\n",
       "    <tr>\n",
       "      <th>0</th>\n",
       "      <td>1.52101</td>\n",
       "      <td>13.64</td>\n",
       "      <td>4.49</td>\n",
       "      <td>1.10</td>\n",
       "      <td>71.78</td>\n",
       "      <td>0.06</td>\n",
       "      <td>8.75</td>\n",
       "      <td>0.0</td>\n",
       "      <td>0.0</td>\n",
       "      <td>1</td>\n",
       "    </tr>\n",
       "    <tr>\n",
       "      <th>1</th>\n",
       "      <td>1.51761</td>\n",
       "      <td>13.89</td>\n",
       "      <td>3.60</td>\n",
       "      <td>1.36</td>\n",
       "      <td>72.73</td>\n",
       "      <td>0.48</td>\n",
       "      <td>7.83</td>\n",
       "      <td>0.0</td>\n",
       "      <td>0.0</td>\n",
       "      <td>1</td>\n",
       "    </tr>\n",
       "    <tr>\n",
       "      <th>2</th>\n",
       "      <td>1.51618</td>\n",
       "      <td>13.53</td>\n",
       "      <td>3.55</td>\n",
       "      <td>1.54</td>\n",
       "      <td>72.99</td>\n",
       "      <td>0.39</td>\n",
       "      <td>7.78</td>\n",
       "      <td>0.0</td>\n",
       "      <td>0.0</td>\n",
       "      <td>1</td>\n",
       "    </tr>\n",
       "    <tr>\n",
       "      <th>3</th>\n",
       "      <td>1.51766</td>\n",
       "      <td>13.21</td>\n",
       "      <td>3.69</td>\n",
       "      <td>1.29</td>\n",
       "      <td>72.61</td>\n",
       "      <td>0.57</td>\n",
       "      <td>8.22</td>\n",
       "      <td>0.0</td>\n",
       "      <td>0.0</td>\n",
       "      <td>1</td>\n",
       "    </tr>\n",
       "    <tr>\n",
       "      <th>4</th>\n",
       "      <td>1.51742</td>\n",
       "      <td>13.27</td>\n",
       "      <td>3.62</td>\n",
       "      <td>1.24</td>\n",
       "      <td>73.08</td>\n",
       "      <td>0.55</td>\n",
       "      <td>8.07</td>\n",
       "      <td>0.0</td>\n",
       "      <td>0.0</td>\n",
       "      <td>1</td>\n",
       "    </tr>\n",
       "  </tbody>\n",
       "</table>\n",
       "</div>"
      ],
      "text/plain": [
       "        RI     Na    Mg    Al     Si     K    Ca   Ba   Fe  Type\n",
       "0  1.52101  13.64  4.49  1.10  71.78  0.06  8.75  0.0  0.0     1\n",
       "1  1.51761  13.89  3.60  1.36  72.73  0.48  7.83  0.0  0.0     1\n",
       "2  1.51618  13.53  3.55  1.54  72.99  0.39  7.78  0.0  0.0     1\n",
       "3  1.51766  13.21  3.69  1.29  72.61  0.57  8.22  0.0  0.0     1\n",
       "4  1.51742  13.27  3.62  1.24  73.08  0.55  8.07  0.0  0.0     1"
      ]
     },
     "execution_count": 74,
     "metadata": {},
     "output_type": "execute_result"
    }
   ],
   "source": [
    "import pandas as pd\n",
    "df2 = pd.read_csv('glass.csv')\n",
    "df2.head()"
   ]
  },
  {
   "cell_type": "code",
   "execution_count": 75,
   "id": "f6dfe939",
   "metadata": {},
   "outputs": [],
   "source": [
    "#Performing EDA"
   ]
  },
  {
   "cell_type": "code",
   "execution_count": 76,
   "id": "79e43ac1",
   "metadata": {},
   "outputs": [
    {
     "data": {
      "text/html": [
       "<div>\n",
       "<style scoped>\n",
       "    .dataframe tbody tr th:only-of-type {\n",
       "        vertical-align: middle;\n",
       "    }\n",
       "\n",
       "    .dataframe tbody tr th {\n",
       "        vertical-align: top;\n",
       "    }\n",
       "\n",
       "    .dataframe thead th {\n",
       "        text-align: right;\n",
       "    }\n",
       "</style>\n",
       "<table border=\"1\" class=\"dataframe\">\n",
       "  <thead>\n",
       "    <tr style=\"text-align: right;\">\n",
       "      <th></th>\n",
       "      <th>RI</th>\n",
       "      <th>Na</th>\n",
       "      <th>Mg</th>\n",
       "      <th>Al</th>\n",
       "      <th>Si</th>\n",
       "      <th>K</th>\n",
       "      <th>Ca</th>\n",
       "      <th>Ba</th>\n",
       "      <th>Fe</th>\n",
       "      <th>Type</th>\n",
       "    </tr>\n",
       "  </thead>\n",
       "  <tbody>\n",
       "    <tr>\n",
       "      <th>count</th>\n",
       "      <td>214.000000</td>\n",
       "      <td>214.000000</td>\n",
       "      <td>214.000000</td>\n",
       "      <td>214.000000</td>\n",
       "      <td>214.000000</td>\n",
       "      <td>214.000000</td>\n",
       "      <td>214.000000</td>\n",
       "      <td>214.000000</td>\n",
       "      <td>214.000000</td>\n",
       "      <td>214.000000</td>\n",
       "    </tr>\n",
       "    <tr>\n",
       "      <th>mean</th>\n",
       "      <td>1.518365</td>\n",
       "      <td>13.407850</td>\n",
       "      <td>2.684533</td>\n",
       "      <td>1.444907</td>\n",
       "      <td>72.650935</td>\n",
       "      <td>0.497056</td>\n",
       "      <td>8.956963</td>\n",
       "      <td>0.175047</td>\n",
       "      <td>0.057009</td>\n",
       "      <td>2.780374</td>\n",
       "    </tr>\n",
       "    <tr>\n",
       "      <th>std</th>\n",
       "      <td>0.003037</td>\n",
       "      <td>0.816604</td>\n",
       "      <td>1.442408</td>\n",
       "      <td>0.499270</td>\n",
       "      <td>0.774546</td>\n",
       "      <td>0.652192</td>\n",
       "      <td>1.423153</td>\n",
       "      <td>0.497219</td>\n",
       "      <td>0.097439</td>\n",
       "      <td>2.103739</td>\n",
       "    </tr>\n",
       "    <tr>\n",
       "      <th>min</th>\n",
       "      <td>1.511150</td>\n",
       "      <td>10.730000</td>\n",
       "      <td>0.000000</td>\n",
       "      <td>0.290000</td>\n",
       "      <td>69.810000</td>\n",
       "      <td>0.000000</td>\n",
       "      <td>5.430000</td>\n",
       "      <td>0.000000</td>\n",
       "      <td>0.000000</td>\n",
       "      <td>1.000000</td>\n",
       "    </tr>\n",
       "    <tr>\n",
       "      <th>25%</th>\n",
       "      <td>1.516522</td>\n",
       "      <td>12.907500</td>\n",
       "      <td>2.115000</td>\n",
       "      <td>1.190000</td>\n",
       "      <td>72.280000</td>\n",
       "      <td>0.122500</td>\n",
       "      <td>8.240000</td>\n",
       "      <td>0.000000</td>\n",
       "      <td>0.000000</td>\n",
       "      <td>1.000000</td>\n",
       "    </tr>\n",
       "    <tr>\n",
       "      <th>50%</th>\n",
       "      <td>1.517680</td>\n",
       "      <td>13.300000</td>\n",
       "      <td>3.480000</td>\n",
       "      <td>1.360000</td>\n",
       "      <td>72.790000</td>\n",
       "      <td>0.555000</td>\n",
       "      <td>8.600000</td>\n",
       "      <td>0.000000</td>\n",
       "      <td>0.000000</td>\n",
       "      <td>2.000000</td>\n",
       "    </tr>\n",
       "    <tr>\n",
       "      <th>75%</th>\n",
       "      <td>1.519157</td>\n",
       "      <td>13.825000</td>\n",
       "      <td>3.600000</td>\n",
       "      <td>1.630000</td>\n",
       "      <td>73.087500</td>\n",
       "      <td>0.610000</td>\n",
       "      <td>9.172500</td>\n",
       "      <td>0.000000</td>\n",
       "      <td>0.100000</td>\n",
       "      <td>3.000000</td>\n",
       "    </tr>\n",
       "    <tr>\n",
       "      <th>max</th>\n",
       "      <td>1.533930</td>\n",
       "      <td>17.380000</td>\n",
       "      <td>4.490000</td>\n",
       "      <td>3.500000</td>\n",
       "      <td>75.410000</td>\n",
       "      <td>6.210000</td>\n",
       "      <td>16.190000</td>\n",
       "      <td>3.150000</td>\n",
       "      <td>0.510000</td>\n",
       "      <td>7.000000</td>\n",
       "    </tr>\n",
       "  </tbody>\n",
       "</table>\n",
       "</div>"
      ],
      "text/plain": [
       "               RI          Na          Mg          Al          Si           K  \\\n",
       "count  214.000000  214.000000  214.000000  214.000000  214.000000  214.000000   \n",
       "mean     1.518365   13.407850    2.684533    1.444907   72.650935    0.497056   \n",
       "std      0.003037    0.816604    1.442408    0.499270    0.774546    0.652192   \n",
       "min      1.511150   10.730000    0.000000    0.290000   69.810000    0.000000   \n",
       "25%      1.516522   12.907500    2.115000    1.190000   72.280000    0.122500   \n",
       "50%      1.517680   13.300000    3.480000    1.360000   72.790000    0.555000   \n",
       "75%      1.519157   13.825000    3.600000    1.630000   73.087500    0.610000   \n",
       "max      1.533930   17.380000    4.490000    3.500000   75.410000    6.210000   \n",
       "\n",
       "               Ca          Ba          Fe        Type  \n",
       "count  214.000000  214.000000  214.000000  214.000000  \n",
       "mean     8.956963    0.175047    0.057009    2.780374  \n",
       "std      1.423153    0.497219    0.097439    2.103739  \n",
       "min      5.430000    0.000000    0.000000    1.000000  \n",
       "25%      8.240000    0.000000    0.000000    1.000000  \n",
       "50%      8.600000    0.000000    0.000000    2.000000  \n",
       "75%      9.172500    0.000000    0.100000    3.000000  \n",
       "max     16.190000    3.150000    0.510000    7.000000  "
      ]
     },
     "execution_count": 76,
     "metadata": {},
     "output_type": "execute_result"
    }
   ],
   "source": [
    "df2.describe()"
   ]
  },
  {
   "cell_type": "code",
   "execution_count": 77,
   "id": "ccac1e5f",
   "metadata": {},
   "outputs": [
    {
     "data": {
      "text/html": [
       "<div>\n",
       "<style scoped>\n",
       "    .dataframe tbody tr th:only-of-type {\n",
       "        vertical-align: middle;\n",
       "    }\n",
       "\n",
       "    .dataframe tbody tr th {\n",
       "        vertical-align: top;\n",
       "    }\n",
       "\n",
       "    .dataframe thead th {\n",
       "        text-align: right;\n",
       "    }\n",
       "</style>\n",
       "<table border=\"1\" class=\"dataframe\">\n",
       "  <thead>\n",
       "    <tr style=\"text-align: right;\">\n",
       "      <th></th>\n",
       "      <th>RI</th>\n",
       "      <th>Na</th>\n",
       "      <th>Mg</th>\n",
       "      <th>Al</th>\n",
       "      <th>Si</th>\n",
       "      <th>K</th>\n",
       "      <th>Ca</th>\n",
       "      <th>Ba</th>\n",
       "      <th>Fe</th>\n",
       "      <th>Type</th>\n",
       "    </tr>\n",
       "  </thead>\n",
       "  <tbody>\n",
       "    <tr>\n",
       "      <th>RI</th>\n",
       "      <td>1.000000</td>\n",
       "      <td>-0.191885</td>\n",
       "      <td>-0.122274</td>\n",
       "      <td>-0.407326</td>\n",
       "      <td>-0.542052</td>\n",
       "      <td>-0.289833</td>\n",
       "      <td>0.810403</td>\n",
       "      <td>-0.000386</td>\n",
       "      <td>0.143010</td>\n",
       "      <td>-0.164237</td>\n",
       "    </tr>\n",
       "    <tr>\n",
       "      <th>Na</th>\n",
       "      <td>-0.191885</td>\n",
       "      <td>1.000000</td>\n",
       "      <td>-0.273732</td>\n",
       "      <td>0.156794</td>\n",
       "      <td>-0.069809</td>\n",
       "      <td>-0.266087</td>\n",
       "      <td>-0.275442</td>\n",
       "      <td>0.326603</td>\n",
       "      <td>-0.241346</td>\n",
       "      <td>0.502898</td>\n",
       "    </tr>\n",
       "    <tr>\n",
       "      <th>Mg</th>\n",
       "      <td>-0.122274</td>\n",
       "      <td>-0.273732</td>\n",
       "      <td>1.000000</td>\n",
       "      <td>-0.481799</td>\n",
       "      <td>-0.165927</td>\n",
       "      <td>0.005396</td>\n",
       "      <td>-0.443750</td>\n",
       "      <td>-0.492262</td>\n",
       "      <td>0.083060</td>\n",
       "      <td>-0.744993</td>\n",
       "    </tr>\n",
       "    <tr>\n",
       "      <th>Al</th>\n",
       "      <td>-0.407326</td>\n",
       "      <td>0.156794</td>\n",
       "      <td>-0.481799</td>\n",
       "      <td>1.000000</td>\n",
       "      <td>-0.005524</td>\n",
       "      <td>0.325958</td>\n",
       "      <td>-0.259592</td>\n",
       "      <td>0.479404</td>\n",
       "      <td>-0.074402</td>\n",
       "      <td>0.598829</td>\n",
       "    </tr>\n",
       "    <tr>\n",
       "      <th>Si</th>\n",
       "      <td>-0.542052</td>\n",
       "      <td>-0.069809</td>\n",
       "      <td>-0.165927</td>\n",
       "      <td>-0.005524</td>\n",
       "      <td>1.000000</td>\n",
       "      <td>-0.193331</td>\n",
       "      <td>-0.208732</td>\n",
       "      <td>-0.102151</td>\n",
       "      <td>-0.094201</td>\n",
       "      <td>0.151565</td>\n",
       "    </tr>\n",
       "    <tr>\n",
       "      <th>K</th>\n",
       "      <td>-0.289833</td>\n",
       "      <td>-0.266087</td>\n",
       "      <td>0.005396</td>\n",
       "      <td>0.325958</td>\n",
       "      <td>-0.193331</td>\n",
       "      <td>1.000000</td>\n",
       "      <td>-0.317836</td>\n",
       "      <td>-0.042618</td>\n",
       "      <td>-0.007719</td>\n",
       "      <td>-0.010054</td>\n",
       "    </tr>\n",
       "    <tr>\n",
       "      <th>Ca</th>\n",
       "      <td>0.810403</td>\n",
       "      <td>-0.275442</td>\n",
       "      <td>-0.443750</td>\n",
       "      <td>-0.259592</td>\n",
       "      <td>-0.208732</td>\n",
       "      <td>-0.317836</td>\n",
       "      <td>1.000000</td>\n",
       "      <td>-0.112841</td>\n",
       "      <td>0.124968</td>\n",
       "      <td>0.000952</td>\n",
       "    </tr>\n",
       "    <tr>\n",
       "      <th>Ba</th>\n",
       "      <td>-0.000386</td>\n",
       "      <td>0.326603</td>\n",
       "      <td>-0.492262</td>\n",
       "      <td>0.479404</td>\n",
       "      <td>-0.102151</td>\n",
       "      <td>-0.042618</td>\n",
       "      <td>-0.112841</td>\n",
       "      <td>1.000000</td>\n",
       "      <td>-0.058692</td>\n",
       "      <td>0.575161</td>\n",
       "    </tr>\n",
       "    <tr>\n",
       "      <th>Fe</th>\n",
       "      <td>0.143010</td>\n",
       "      <td>-0.241346</td>\n",
       "      <td>0.083060</td>\n",
       "      <td>-0.074402</td>\n",
       "      <td>-0.094201</td>\n",
       "      <td>-0.007719</td>\n",
       "      <td>0.124968</td>\n",
       "      <td>-0.058692</td>\n",
       "      <td>1.000000</td>\n",
       "      <td>-0.188278</td>\n",
       "    </tr>\n",
       "    <tr>\n",
       "      <th>Type</th>\n",
       "      <td>-0.164237</td>\n",
       "      <td>0.502898</td>\n",
       "      <td>-0.744993</td>\n",
       "      <td>0.598829</td>\n",
       "      <td>0.151565</td>\n",
       "      <td>-0.010054</td>\n",
       "      <td>0.000952</td>\n",
       "      <td>0.575161</td>\n",
       "      <td>-0.188278</td>\n",
       "      <td>1.000000</td>\n",
       "    </tr>\n",
       "  </tbody>\n",
       "</table>\n",
       "</div>"
      ],
      "text/plain": [
       "            RI        Na        Mg        Al        Si         K        Ca  \\\n",
       "RI    1.000000 -0.191885 -0.122274 -0.407326 -0.542052 -0.289833  0.810403   \n",
       "Na   -0.191885  1.000000 -0.273732  0.156794 -0.069809 -0.266087 -0.275442   \n",
       "Mg   -0.122274 -0.273732  1.000000 -0.481799 -0.165927  0.005396 -0.443750   \n",
       "Al   -0.407326  0.156794 -0.481799  1.000000 -0.005524  0.325958 -0.259592   \n",
       "Si   -0.542052 -0.069809 -0.165927 -0.005524  1.000000 -0.193331 -0.208732   \n",
       "K    -0.289833 -0.266087  0.005396  0.325958 -0.193331  1.000000 -0.317836   \n",
       "Ca    0.810403 -0.275442 -0.443750 -0.259592 -0.208732 -0.317836  1.000000   \n",
       "Ba   -0.000386  0.326603 -0.492262  0.479404 -0.102151 -0.042618 -0.112841   \n",
       "Fe    0.143010 -0.241346  0.083060 -0.074402 -0.094201 -0.007719  0.124968   \n",
       "Type -0.164237  0.502898 -0.744993  0.598829  0.151565 -0.010054  0.000952   \n",
       "\n",
       "            Ba        Fe      Type  \n",
       "RI   -0.000386  0.143010 -0.164237  \n",
       "Na    0.326603 -0.241346  0.502898  \n",
       "Mg   -0.492262  0.083060 -0.744993  \n",
       "Al    0.479404 -0.074402  0.598829  \n",
       "Si   -0.102151 -0.094201  0.151565  \n",
       "K    -0.042618 -0.007719 -0.010054  \n",
       "Ca   -0.112841  0.124968  0.000952  \n",
       "Ba    1.000000 -0.058692  0.575161  \n",
       "Fe   -0.058692  1.000000 -0.188278  \n",
       "Type  0.575161 -0.188278  1.000000  "
      ]
     },
     "execution_count": 77,
     "metadata": {},
     "output_type": "execute_result"
    }
   ],
   "source": [
    "df2.corr()"
   ]
  },
  {
   "cell_type": "code",
   "execution_count": 78,
   "id": "589fb101",
   "metadata": {},
   "outputs": [
    {
     "name": "stdout",
     "output_type": "stream",
     "text": [
      "<class 'pandas.core.frame.DataFrame'>\n",
      "RangeIndex: 214 entries, 0 to 213\n",
      "Data columns (total 10 columns):\n",
      " #   Column  Non-Null Count  Dtype  \n",
      "---  ------  --------------  -----  \n",
      " 0   RI      214 non-null    float64\n",
      " 1   Na      214 non-null    float64\n",
      " 2   Mg      214 non-null    float64\n",
      " 3   Al      214 non-null    float64\n",
      " 4   Si      214 non-null    float64\n",
      " 5   K       214 non-null    float64\n",
      " 6   Ca      214 non-null    float64\n",
      " 7   Ba      214 non-null    float64\n",
      " 8   Fe      214 non-null    float64\n",
      " 9   Type    214 non-null    int64  \n",
      "dtypes: float64(9), int64(1)\n",
      "memory usage: 16.8 KB\n"
     ]
    }
   ],
   "source": [
    "df2.info()"
   ]
  },
  {
   "cell_type": "code",
   "execution_count": 79,
   "id": "01f25b9b",
   "metadata": {},
   "outputs": [],
   "source": [
    "# get the counts of unique values in the 'type' column "
   ]
  },
  {
   "cell_type": "code",
   "execution_count": 80,
   "id": "9619f38d",
   "metadata": {},
   "outputs": [
    {
     "data": {
      "text/plain": [
       "2    76\n",
       "1    70\n",
       "7    29\n",
       "3    17\n",
       "5    13\n",
       "6     9\n",
       "Name: Type, dtype: int64"
      ]
     },
     "execution_count": 80,
     "metadata": {},
     "output_type": "execute_result"
    }
   ],
   "source": [
    "df2['Type'].value_counts()"
   ]
  },
  {
   "cell_type": "code",
   "execution_count": 81,
   "id": "6dd600f3",
   "metadata": {},
   "outputs": [],
   "source": [
    "# splitting your DataFrame df into features (X) and the target variable (Y)."
   ]
  },
  {
   "cell_type": "code",
   "execution_count": 82,
   "id": "a3879954",
   "metadata": {},
   "outputs": [],
   "source": [
    "X = df2.iloc[:,0:9]\n",
    "Y = df2['Type']"
   ]
  },
  {
   "cell_type": "code",
   "execution_count": 83,
   "id": "bca2d89c",
   "metadata": {},
   "outputs": [],
   "source": [
    "#applied standardization to your feature matrix X"
   ]
  },
  {
   "cell_type": "code",
   "execution_count": 84,
   "id": "6b07344a",
   "metadata": {},
   "outputs": [
    {
     "data": {
      "text/html": [
       "<div>\n",
       "<style scoped>\n",
       "    .dataframe tbody tr th:only-of-type {\n",
       "        vertical-align: middle;\n",
       "    }\n",
       "\n",
       "    .dataframe tbody tr th {\n",
       "        vertical-align: top;\n",
       "    }\n",
       "\n",
       "    .dataframe thead th {\n",
       "        text-align: right;\n",
       "    }\n",
       "</style>\n",
       "<table border=\"1\" class=\"dataframe\">\n",
       "  <thead>\n",
       "    <tr style=\"text-align: right;\">\n",
       "      <th></th>\n",
       "      <th>RI</th>\n",
       "      <th>Na</th>\n",
       "      <th>Mg</th>\n",
       "      <th>Al</th>\n",
       "      <th>Si</th>\n",
       "      <th>K</th>\n",
       "      <th>Ca</th>\n",
       "      <th>Ba</th>\n",
       "      <th>Fe</th>\n",
       "    </tr>\n",
       "  </thead>\n",
       "  <tbody>\n",
       "    <tr>\n",
       "      <th>0</th>\n",
       "      <td>0.432836</td>\n",
       "      <td>0.437594</td>\n",
       "      <td>1.000000</td>\n",
       "      <td>0.252336</td>\n",
       "      <td>0.351786</td>\n",
       "      <td>0.009662</td>\n",
       "      <td>0.308550</td>\n",
       "      <td>0.000000</td>\n",
       "      <td>0.0</td>\n",
       "    </tr>\n",
       "    <tr>\n",
       "      <th>1</th>\n",
       "      <td>0.283582</td>\n",
       "      <td>0.475188</td>\n",
       "      <td>0.801782</td>\n",
       "      <td>0.333333</td>\n",
       "      <td>0.521429</td>\n",
       "      <td>0.077295</td>\n",
       "      <td>0.223048</td>\n",
       "      <td>0.000000</td>\n",
       "      <td>0.0</td>\n",
       "    </tr>\n",
       "    <tr>\n",
       "      <th>2</th>\n",
       "      <td>0.220808</td>\n",
       "      <td>0.421053</td>\n",
       "      <td>0.790646</td>\n",
       "      <td>0.389408</td>\n",
       "      <td>0.567857</td>\n",
       "      <td>0.062802</td>\n",
       "      <td>0.218401</td>\n",
       "      <td>0.000000</td>\n",
       "      <td>0.0</td>\n",
       "    </tr>\n",
       "    <tr>\n",
       "      <th>3</th>\n",
       "      <td>0.285777</td>\n",
       "      <td>0.372932</td>\n",
       "      <td>0.821826</td>\n",
       "      <td>0.311526</td>\n",
       "      <td>0.500000</td>\n",
       "      <td>0.091787</td>\n",
       "      <td>0.259294</td>\n",
       "      <td>0.000000</td>\n",
       "      <td>0.0</td>\n",
       "    </tr>\n",
       "    <tr>\n",
       "      <th>4</th>\n",
       "      <td>0.275241</td>\n",
       "      <td>0.381955</td>\n",
       "      <td>0.806236</td>\n",
       "      <td>0.295950</td>\n",
       "      <td>0.583929</td>\n",
       "      <td>0.088567</td>\n",
       "      <td>0.245353</td>\n",
       "      <td>0.000000</td>\n",
       "      <td>0.0</td>\n",
       "    </tr>\n",
       "    <tr>\n",
       "      <th>...</th>\n",
       "      <td>...</td>\n",
       "      <td>...</td>\n",
       "      <td>...</td>\n",
       "      <td>...</td>\n",
       "      <td>...</td>\n",
       "      <td>...</td>\n",
       "      <td>...</td>\n",
       "      <td>...</td>\n",
       "      <td>...</td>\n",
       "    </tr>\n",
       "    <tr>\n",
       "      <th>209</th>\n",
       "      <td>0.223003</td>\n",
       "      <td>0.512782</td>\n",
       "      <td>0.000000</td>\n",
       "      <td>0.806854</td>\n",
       "      <td>0.500000</td>\n",
       "      <td>0.012882</td>\n",
       "      <td>0.348513</td>\n",
       "      <td>0.336508</td>\n",
       "      <td>0.0</td>\n",
       "    </tr>\n",
       "    <tr>\n",
       "      <th>210</th>\n",
       "      <td>0.250219</td>\n",
       "      <td>0.630075</td>\n",
       "      <td>0.000000</td>\n",
       "      <td>0.529595</td>\n",
       "      <td>0.580357</td>\n",
       "      <td>0.000000</td>\n",
       "      <td>0.276022</td>\n",
       "      <td>0.504762</td>\n",
       "      <td>0.0</td>\n",
       "    </tr>\n",
       "    <tr>\n",
       "      <th>211</th>\n",
       "      <td>0.417032</td>\n",
       "      <td>0.545865</td>\n",
       "      <td>0.000000</td>\n",
       "      <td>0.538941</td>\n",
       "      <td>0.644643</td>\n",
       "      <td>0.000000</td>\n",
       "      <td>0.279740</td>\n",
       "      <td>0.520635</td>\n",
       "      <td>0.0</td>\n",
       "    </tr>\n",
       "    <tr>\n",
       "      <th>212</th>\n",
       "      <td>0.235294</td>\n",
       "      <td>0.548872</td>\n",
       "      <td>0.000000</td>\n",
       "      <td>0.514019</td>\n",
       "      <td>0.678571</td>\n",
       "      <td>0.000000</td>\n",
       "      <td>0.283457</td>\n",
       "      <td>0.498413</td>\n",
       "      <td>0.0</td>\n",
       "    </tr>\n",
       "    <tr>\n",
       "      <th>213</th>\n",
       "      <td>0.261633</td>\n",
       "      <td>0.526316</td>\n",
       "      <td>0.000000</td>\n",
       "      <td>0.557632</td>\n",
       "      <td>0.633929</td>\n",
       "      <td>0.000000</td>\n",
       "      <td>0.296468</td>\n",
       "      <td>0.530159</td>\n",
       "      <td>0.0</td>\n",
       "    </tr>\n",
       "  </tbody>\n",
       "</table>\n",
       "<p>214 rows × 9 columns</p>\n",
       "</div>"
      ],
      "text/plain": [
       "           RI        Na        Mg        Al        Si         K        Ca  \\\n",
       "0    0.432836  0.437594  1.000000  0.252336  0.351786  0.009662  0.308550   \n",
       "1    0.283582  0.475188  0.801782  0.333333  0.521429  0.077295  0.223048   \n",
       "2    0.220808  0.421053  0.790646  0.389408  0.567857  0.062802  0.218401   \n",
       "3    0.285777  0.372932  0.821826  0.311526  0.500000  0.091787  0.259294   \n",
       "4    0.275241  0.381955  0.806236  0.295950  0.583929  0.088567  0.245353   \n",
       "..        ...       ...       ...       ...       ...       ...       ...   \n",
       "209  0.223003  0.512782  0.000000  0.806854  0.500000  0.012882  0.348513   \n",
       "210  0.250219  0.630075  0.000000  0.529595  0.580357  0.000000  0.276022   \n",
       "211  0.417032  0.545865  0.000000  0.538941  0.644643  0.000000  0.279740   \n",
       "212  0.235294  0.548872  0.000000  0.514019  0.678571  0.000000  0.283457   \n",
       "213  0.261633  0.526316  0.000000  0.557632  0.633929  0.000000  0.296468   \n",
       "\n",
       "           Ba   Fe  \n",
       "0    0.000000  0.0  \n",
       "1    0.000000  0.0  \n",
       "2    0.000000  0.0  \n",
       "3    0.000000  0.0  \n",
       "4    0.000000  0.0  \n",
       "..        ...  ...  \n",
       "209  0.336508  0.0  \n",
       "210  0.504762  0.0  \n",
       "211  0.520635  0.0  \n",
       "212  0.498413  0.0  \n",
       "213  0.530159  0.0  \n",
       "\n",
       "[214 rows x 9 columns]"
      ]
     },
     "execution_count": 84,
     "metadata": {},
     "output_type": "execute_result"
    }
   ],
   "source": [
    "from sklearn.preprocessing import MinMaxScaler\n",
    "mm = MinMaxScaler()\n",
    "mm_x = mm.fit_transform(X)\n",
    "mm_x = pd.DataFrame(mm_x)\n",
    "mm_x.columns = list(X)\n",
    "mm_x"
   ]
  },
  {
   "cell_type": "code",
   "execution_count": 85,
   "id": "03f327cf",
   "metadata": {},
   "outputs": [],
   "source": [
    "#split your data into training and testing sets"
   ]
  },
  {
   "cell_type": "code",
   "execution_count": 86,
   "id": "e5ecd5dd",
   "metadata": {},
   "outputs": [
    {
     "data": {
      "text/plain": [
       "((149, 9), (65, 9), (149,), (65,))"
      ]
     },
     "execution_count": 86,
     "metadata": {},
     "output_type": "execute_result"
    }
   ],
   "source": [
    "from sklearn.model_selection import train_test_split\n",
    "X_train,X_test,Y_train,Y_test = train_test_split(X,Y,test_size=0.3)\n",
    "X_train.shape,X_test.shape,Y_train.shape,Y_test.shape"
   ]
  },
  {
   "cell_type": "code",
   "execution_count": 87,
   "id": "7e84d34d",
   "metadata": {},
   "outputs": [],
   "source": [
    "# create an instance of the KNeighborsClassifier and  fits the KNN classifier on the training data."
   ]
  },
  {
   "cell_type": "code",
   "execution_count": 88,
   "id": "4317618b",
   "metadata": {},
   "outputs": [
    {
     "data": {
      "text/plain": [
       "KNeighborsClassifier()"
      ]
     },
     "execution_count": 88,
     "metadata": {},
     "output_type": "execute_result"
    }
   ],
   "source": [
    "from sklearn.neighbors import KNeighborsClassifier\n",
    "knc = KNeighborsClassifier(n_neighbors=5,p=2)\n",
    "knc.fit(X_train,Y_train)"
   ]
  },
  {
   "cell_type": "code",
   "execution_count": 89,
   "id": "5f273d42",
   "metadata": {},
   "outputs": [],
   "source": [
    "#make predictions on both the training set (X_train) and the test set (X_test)."
   ]
  },
  {
   "cell_type": "code",
   "execution_count": 90,
   "id": "6239deba",
   "metadata": {},
   "outputs": [],
   "source": [
    "Y_pred_train = knc.predict(X_train)\n",
    "Y_pred_test = knc.predict(X_test)"
   ]
  },
  {
   "cell_type": "code",
   "execution_count": 91,
   "id": "03e27e1e",
   "metadata": {},
   "outputs": [],
   "source": [
    "#evaluate the performance of your KNN model on both the training set and the test set"
   ]
  },
  {
   "cell_type": "code",
   "execution_count": 92,
   "id": "6a0cdff7",
   "metadata": {},
   "outputs": [
    {
     "name": "stdout",
     "output_type": "stream",
     "text": [
      "Training score is 0.7516778523489933\n",
      "Test score is 0.5846153846153846\n"
     ]
    }
   ],
   "source": [
    "from sklearn.metrics import accuracy_score\n",
    "print('Training score is',accuracy_score(Y_train,Y_pred_train))\n",
    "print('Test score is',accuracy_score(Y_test,Y_pred_test))"
   ]
  },
  {
   "cell_type": "code",
   "execution_count": 93,
   "id": "7098da37",
   "metadata": {},
   "outputs": [],
   "source": [
    "#assess the performance of(knc),K-fold cross-validation is a technique where the dataset is split into k subsets valuated k times, each time using a different fold as the test set and the remaining folds as the training set."
   ]
  },
  {
   "cell_type": "code",
   "execution_count": 94,
   "id": "c7ca0bce",
   "metadata": {},
   "outputs": [
    {
     "name": "stdout",
     "output_type": "stream",
     "text": [
      "Training score is 0.7873997008023935\n",
      "Test score is 0.3165005537098561\n"
     ]
    }
   ],
   "source": [
    "from sklearn.model_selection import KFold\n",
    "kfold = KFold(n_splits=5)\n",
    "\n",
    "train_error = []\n",
    "test_error = []\n",
    "for train_index,test_index in kfold.split(df2):\n",
    "    x_train,x_test = mm_x.iloc[train_index], mm_x.iloc[test_index]\n",
    "    y_train, y_test = Y.iloc[train_index], Y.iloc[test_index]\n",
    "    knc.fit(x_train,y_train)\n",
    "    y_pred_train = knc.predict(x_train)\n",
    "    y_pred_test = knc.predict(x_test)\n",
    "    train_error.append(accuracy_score(y_train,y_pred_train))\n",
    "    test_error.append(accuracy_score(y_test,y_pred_test))\n",
    "    \n",
    "print('Training score is',np.mean(train_error))\n",
    "print('Test score is',np.mean(test_error))"
   ]
  },
  {
   "cell_type": "code",
   "execution_count": 95,
   "id": "ab9b0dea",
   "metadata": {},
   "outputs": [],
   "source": [
    "#trained the model on a training set and evaluated its performance on both the training and test sets,calculate the accuracy of the predictions."
   ]
  },
  {
   "cell_type": "code",
   "execution_count": 96,
   "id": "653a589b",
   "metadata": {},
   "outputs": [
    {
     "name": "stdout",
     "output_type": "stream",
     "text": [
      "Training score is 0.785234899328859\n",
      "Test score is 0.6615384615384615\n"
     ]
    }
   ],
   "source": [
    "from sklearn.neighbors import KNeighborsClassifier\n",
    "knc = KNeighborsClassifier(n_neighbors=5,p=1)\n",
    "knc.fit(X_train,Y_train)\n",
    "Y_pred_train = knc.predict(X_train)\n",
    "Y_pred_test = knc.predict(X_test)\n",
    "from sklearn.metrics import accuracy_score\n",
    "print('Training score is',accuracy_score(Y_train,Y_pred_train))\n",
    "print('Test score is',accuracy_score(Y_test,Y_pred_test))"
   ]
  },
  {
   "cell_type": "code",
   "execution_count": 97,
   "id": "71a0d1aa",
   "metadata": {},
   "outputs": [],
   "source": [
    "#assess the performance of(knc),K-fold cross-validation is a technique where the dataset is split into k subsets valuated k times, each time using a different fold as the test set and the remaining folds as the training set."
   ]
  },
  {
   "cell_type": "code",
   "execution_count": 98,
   "id": "8c184655",
   "metadata": {},
   "outputs": [
    {
     "name": "stdout",
     "output_type": "stream",
     "text": [
      "Training score is 0.7978988168094656\n",
      "Test score is 0.3304540420819491\n"
     ]
    }
   ],
   "source": [
    "from sklearn.model_selection import KFold\n",
    "kfold = KFold(n_splits=5)\n",
    "\n",
    "train_error = []\n",
    "test_error = []\n",
    "for train_index,test_index in kfold.split(df2):\n",
    "    x_train,x_test = mm_x.iloc[train_index], mm_x.iloc[test_index]\n",
    "    y_train, y_test = Y.iloc[train_index], Y.iloc[test_index]\n",
    "    knc.fit(x_train,y_train)\n",
    "    y_pred_train = knc.predict(x_train)\n",
    "    y_pred_test = knc.predict(x_test)\n",
    "    train_error.append(accuracy_score(y_train,y_pred_train))\n",
    "    test_error.append(accuracy_score(y_test,y_pred_test))\n",
    "    \n",
    "print('Training score is',np.mean(train_error))\n",
    "print('Test score is',np.mean(test_error))"
   ]
  },
  {
   "cell_type": "code",
   "execution_count": 99,
   "id": "b9ae972b",
   "metadata": {},
   "outputs": [],
   "source": [
    "#trained the model on a training set and evaluated its performance on both the training and test sets,calculate the accuracy of the predictions."
   ]
  },
  {
   "cell_type": "code",
   "execution_count": 100,
   "id": "eb6d1937",
   "metadata": {},
   "outputs": [
    {
     "name": "stdout",
     "output_type": "stream",
     "text": [
      "Training score is 0.738255033557047\n",
      "Test score is 0.5692307692307692\n"
     ]
    }
   ],
   "source": [
    "from sklearn.neighbors import KNeighborsClassifier\n",
    "knc = KNeighborsClassifier(n_neighbors=6,p=2)\n",
    "knc.fit(X_train,Y_train)\n",
    "Y_pred_train = knc.predict(X_train)\n",
    "Y_pred_test = knc.predict(X_test)\n",
    "from sklearn.metrics import accuracy_score\n",
    "print('Training score is',accuracy_score(Y_train,Y_pred_train))\n",
    "print('Test score is',accuracy_score(Y_test,Y_pred_test))"
   ]
  },
  {
   "cell_type": "code",
   "execution_count": 101,
   "id": "a7498734",
   "metadata": {},
   "outputs": [],
   "source": [
    "#assess the performance of(knc),K-fold cross-validation is a technique where the dataset is split into k subsets valuated k times, each time using a different fold as the test set and the remaining folds as the training set."
   ]
  },
  {
   "cell_type": "code",
   "execution_count": 102,
   "id": "2fb4465c",
   "metadata": {},
   "outputs": [
    {
     "name": "stdout",
     "output_type": "stream",
     "text": [
      "Training score is 0.7570039439684482\n",
      "Test score is 0.27918050941306755\n"
     ]
    }
   ],
   "source": [
    "from sklearn.model_selection import KFold\n",
    "kfold = KFold(n_splits=5)\n",
    "\n",
    "train_error = []\n",
    "test_error = []\n",
    "for train_index,test_index in kfold.split(df2):\n",
    "    x_train,x_test = mm_x.iloc[train_index], mm_x.iloc[test_index]\n",
    "    y_train, y_test = Y.iloc[train_index], Y.iloc[test_index]\n",
    "    knc.fit(x_train,y_train)\n",
    "    y_pred_train = knc.predict(x_train)\n",
    "    y_pred_test = knc.predict(x_test)\n",
    "    train_error.append(accuracy_score(y_train,y_pred_train))\n",
    "    test_error.append(accuracy_score(y_test,y_pred_test))\n",
    "    \n",
    "print('Training score is',np.mean(train_error))\n",
    "print('Test score is',np.mean(test_error))"
   ]
  },
  {
   "cell_type": "code",
   "execution_count": 103,
   "id": "d3d1db1e",
   "metadata": {},
   "outputs": [],
   "source": [
    "#trained the model on a training set and evaluated its performance on both the training and test sets,calculate the accuracy of the predictions."
   ]
  },
  {
   "cell_type": "code",
   "execution_count": 104,
   "id": "b66d1e7a",
   "metadata": {},
   "outputs": [
    {
     "name": "stdout",
     "output_type": "stream",
     "text": [
      "Training score is 0.7516778523489933\n",
      "Test score is 0.6153846153846154\n"
     ]
    }
   ],
   "source": [
    "from sklearn.neighbors import KNeighborsClassifier\n",
    "knc = KNeighborsClassifier(n_neighbors=6,p=1)\n",
    "knc.fit(X_train,Y_train)\n",
    "Y_pred_train = knc.predict(X_train)\n",
    "Y_pred_test = knc.predict(X_test)\n",
    "from sklearn.metrics import accuracy_score\n",
    "print('Training score is',accuracy_score(Y_train,Y_pred_train))\n",
    "print('Test score is',accuracy_score(Y_test,Y_pred_test))"
   ]
  },
  {
   "cell_type": "code",
   "execution_count": 105,
   "id": "a367bab1",
   "metadata": {},
   "outputs": [],
   "source": [
    "#assess the performance of(knc),K-fold cross-validation is a technique where the dataset is split into k subsets valuated k times, each time using a different fold as the test set and the remaining folds as the training set."
   ]
  },
  {
   "cell_type": "code",
   "execution_count": 106,
   "id": "775044c9",
   "metadata": {},
   "outputs": [
    {
     "name": "stdout",
     "output_type": "stream",
     "text": [
      "Training score is 0.7920848633210935\n",
      "Test score is 0.3117386489479513\n"
     ]
    }
   ],
   "source": [
    "from sklearn.model_selection import KFold\n",
    "kfold = KFold(n_splits=5)\n",
    "\n",
    "train_error = []\n",
    "test_error = []\n",
    "for train_index,test_index in kfold.split(df2):\n",
    "    x_train,x_test = mm_x.iloc[train_index], mm_x.iloc[test_index]\n",
    "    y_train, y_test = Y.iloc[train_index], Y.iloc[test_index]\n",
    "    knc.fit(x_train,y_train)\n",
    "    y_pred_train = knc.predict(x_train)\n",
    "    y_pred_test = knc.predict(x_test)\n",
    "    train_error.append(accuracy_score(y_train,y_pred_train))\n",
    "    test_error.append(accuracy_score(y_test,y_pred_test))\n",
    "    \n",
    "print('Training score is',np.mean(train_error))\n",
    "print('Test score is',np.mean(test_error))"
   ]
  },
  {
   "cell_type": "code",
   "execution_count": 107,
   "id": "668d86da",
   "metadata": {},
   "outputs": [],
   "source": [
    "#trained the model on a training set and evaluated its performance on both the training and test sets,calculate the accuracy of the predictions."
   ]
  },
  {
   "cell_type": "code",
   "execution_count": 108,
   "id": "f2b66048",
   "metadata": {},
   "outputs": [
    {
     "name": "stdout",
     "output_type": "stream",
     "text": [
      "Training score is 0.7181208053691275\n",
      "Test score is 0.5538461538461539\n"
     ]
    }
   ],
   "source": [
    "from sklearn.neighbors import KNeighborsClassifier\n",
    "knc = KNeighborsClassifier(n_neighbors=8,p=2)\n",
    "knc.fit(X_train,Y_train)\n",
    "Y_pred_train = knc.predict(X_train)\n",
    "Y_pred_test = knc.predict(X_test)\n",
    "from sklearn.metrics import accuracy_score\n",
    "print('Training score is',accuracy_score(Y_train,Y_pred_train))\n",
    "print('Test score is',accuracy_score(Y_test,Y_pred_test))"
   ]
  },
  {
   "cell_type": "code",
   "execution_count": 109,
   "id": "41ec962f",
   "metadata": {},
   "outputs": [],
   "source": [
    "#assess the performance of(knc),K-fold cross-validation is a technique where the dataset is split into k subsets valuated k times, each time using a different fold as the test set and the remaining folds as the training set."
   ]
  },
  {
   "cell_type": "code",
   "execution_count": 110,
   "id": "d1d02bb3",
   "metadata": {},
   "outputs": [
    {
     "name": "stdout",
     "output_type": "stream",
     "text": [
      "Training score is 0.7429892560859513\n",
      "Test score is 0.2791805094130676\n"
     ]
    }
   ],
   "source": [
    "from sklearn.model_selection import KFold\n",
    "kfold = KFold(n_splits=5)\n",
    "\n",
    "train_error = []\n",
    "test_error = []\n",
    "for train_index,test_index in kfold.split(df2):\n",
    "    x_train,x_test = mm_x.iloc[train_index], mm_x.iloc[test_index]\n",
    "    y_train, y_test = Y.iloc[train_index], Y.iloc[test_index]\n",
    "    knc.fit(x_train,y_train)\n",
    "    y_pred_train = knc.predict(x_train)\n",
    "    y_pred_test = knc.predict(x_test)\n",
    "    train_error.append(accuracy_score(y_train,y_pred_train))\n",
    "    test_error.append(accuracy_score(y_test,y_pred_test))\n",
    "    \n",
    "print('Training score is',np.mean(train_error))\n",
    "print('Test score is',np.mean(test_error))"
   ]
  },
  {
   "cell_type": "code",
   "execution_count": 111,
   "id": "2ec2e46f",
   "metadata": {},
   "outputs": [],
   "source": [
    "#trained the model on a training set and evaluated its performance on both the training and test sets,calculate the accuracy of the predictions."
   ]
  },
  {
   "cell_type": "code",
   "execution_count": 112,
   "id": "84df804b",
   "metadata": {},
   "outputs": [
    {
     "name": "stdout",
     "output_type": "stream",
     "text": [
      "Training score is 0.7046979865771812\n",
      "Test score is 0.5692307692307692\n"
     ]
    }
   ],
   "source": [
    "from sklearn.neighbors import KNeighborsClassifier\n",
    "knc = KNeighborsClassifier(n_neighbors=8,p=1)\n",
    "knc.fit(X_train,Y_train)\n",
    "Y_pred_train = knc.predict(X_train)\n",
    "Y_pred_test = knc.predict(X_test)\n",
    "from sklearn.metrics import accuracy_score\n",
    "print('Training score is',accuracy_score(Y_train,Y_pred_train))\n",
    "print('Test score is',accuracy_score(Y_test,Y_pred_test))"
   ]
  },
  {
   "cell_type": "code",
   "execution_count": 113,
   "id": "9baff13c",
   "metadata": {},
   "outputs": [],
   "source": [
    "#assess the performance of(knc),K-fold cross-validation is a technique where the dataset is split into k subsets valuated k times, each time using a different fold as the test set and the remaining folds as the training set."
   ]
  },
  {
   "cell_type": "code",
   "execution_count": 114,
   "id": "fc69986c",
   "metadata": {},
   "outputs": [
    {
     "name": "stdout",
     "output_type": "stream",
     "text": [
      "Training score is 0.7558479532163742\n",
      "Test score is 0.28383167220376515\n"
     ]
    }
   ],
   "source": [
    "from sklearn.model_selection import KFold\n",
    "kfold = KFold(n_splits=5)\n",
    "\n",
    "train_error = []\n",
    "test_error = []\n",
    "for train_index,test_index in kfold.split(df2):\n",
    "    x_train,x_test = mm_x.iloc[train_index], mm_x.iloc[test_index]\n",
    "    y_train, y_test = Y.iloc[train_index], Y.iloc[test_index]\n",
    "    knc.fit(x_train,y_train)\n",
    "    y_pred_train = knc.predict(x_train)\n",
    "    y_pred_test = knc.predict(x_test)\n",
    "    train_error.append(accuracy_score(y_train,y_pred_train))\n",
    "    test_error.append(accuracy_score(y_test,y_pred_test))\n",
    "    \n",
    "print('Training score is',np.mean(train_error))\n",
    "print('Test score is',np.mean(test_error))"
   ]
  },
  {
   "cell_type": "code",
   "execution_count": 115,
   "id": "69fe9eaa",
   "metadata": {},
   "outputs": [],
   "source": [
    "#trained the model on a training set and evaluated its performance on both the training and test sets,calculate the accuracy of the predictions."
   ]
  },
  {
   "cell_type": "code",
   "execution_count": 116,
   "id": "27f5a071",
   "metadata": {},
   "outputs": [
    {
     "name": "stdout",
     "output_type": "stream",
     "text": [
      "Training score is 0.6912751677852349\n",
      "Test score is 0.5846153846153846\n"
     ]
    }
   ],
   "source": [
    "from sklearn.neighbors import KNeighborsClassifier\n",
    "knc = KNeighborsClassifier(n_neighbors=10,p=2)\n",
    "knc.fit(X_train,Y_train)\n",
    "Y_pred_train = knc.predict(X_train)\n",
    "Y_pred_test = knc.predict(X_test)\n",
    "from sklearn.metrics import accuracy_score\n",
    "print('Training score is',accuracy_score(Y_train,Y_pred_train))\n",
    "print('Test score is',accuracy_score(Y_test,Y_pred_test))"
   ]
  },
  {
   "cell_type": "code",
   "execution_count": 117,
   "id": "cf657d6e",
   "metadata": {},
   "outputs": [],
   "source": [
    "#assess the performance of(knc),K-fold cross-validation is a technique where the dataset is split into k subsets valuated k times, each time using a different fold as the test set and the remaining folds as the training set."
   ]
  },
  {
   "cell_type": "code",
   "execution_count": 118,
   "id": "0acfb156",
   "metadata": {},
   "outputs": [
    {
     "name": "stdout",
     "output_type": "stream",
     "text": [
      "Training score is 0.703250373997008\n",
      "Test score is 0.26976744186046514\n"
     ]
    }
   ],
   "source": [
    "from sklearn.model_selection import KFold\n",
    "kfold = KFold(n_splits=5)\n",
    "\n",
    "train_error = []\n",
    "test_error = []\n",
    "for train_index,test_index in kfold.split(df2):\n",
    "    x_train,x_test = mm_x.iloc[train_index], mm_x.iloc[test_index]\n",
    "    y_train, y_test = Y.iloc[train_index], Y.iloc[test_index]\n",
    "    knc.fit(x_train,y_train)\n",
    "    y_pred_train = knc.predict(x_train)\n",
    "    y_pred_test = knc.predict(x_test)\n",
    "    train_error.append(accuracy_score(y_train,y_pred_train))\n",
    "    test_error.append(accuracy_score(y_test,y_pred_test))\n",
    "    \n",
    "print('Training score is',np.mean(train_error))\n",
    "print('Test score is',np.mean(test_error))"
   ]
  },
  {
   "cell_type": "code",
   "execution_count": 119,
   "id": "b1903d8c",
   "metadata": {},
   "outputs": [],
   "source": [
    "#trained the model on a training set and evaluated its performance on both the training and test sets,calculate the accuracy of the predictions."
   ]
  },
  {
   "cell_type": "code",
   "execution_count": 120,
   "id": "42cf5f27",
   "metadata": {},
   "outputs": [
    {
     "name": "stdout",
     "output_type": "stream",
     "text": [
      "Training score is 0.697986577181208\n",
      "Test score is 0.5846153846153846\n"
     ]
    }
   ],
   "source": [
    "from sklearn.neighbors import KNeighborsClassifier\n",
    "knc = KNeighborsClassifier(n_neighbors=10,p=1)\n",
    "knc.fit(X_train,Y_train)\n",
    "Y_pred_train = knc.predict(X_train)\n",
    "Y_pred_test = knc.predict(X_test)\n",
    "from sklearn.metrics import accuracy_score\n",
    "print('Training score is',accuracy_score(Y_train,Y_pred_train))\n",
    "print('Test score is',accuracy_score(Y_test,Y_pred_test))"
   ]
  },
  {
   "cell_type": "code",
   "execution_count": 121,
   "id": "61bb8dc4",
   "metadata": {},
   "outputs": [],
   "source": [
    "#assess the performance of(knc),K-fold cross-validation is a technique where the dataset is split into k subsets valuated k times, each time using a different fold as the test set and the remaining folds as the training set."
   ]
  },
  {
   "cell_type": "code",
   "execution_count": 122,
   "id": "9d5a90ff",
   "metadata": {},
   "outputs": [
    {
     "name": "stdout",
     "output_type": "stream",
     "text": [
      "Training score is 0.7359649122807017\n",
      "Test score is 0.2791805094130676\n"
     ]
    }
   ],
   "source": [
    "from sklearn.model_selection import KFold\n",
    "kfold = KFold(n_splits=5)\n",
    "\n",
    "train_error = []\n",
    "test_error = []\n",
    "for train_index,test_index in kfold.split(df2):\n",
    "    x_train,x_test = mm_x.iloc[train_index], mm_x.iloc[test_index]\n",
    "    y_train, y_test = Y.iloc[train_index], Y.iloc[test_index]\n",
    "    knc.fit(x_train,y_train)\n",
    "    y_pred_train = knc.predict(x_train)\n",
    "    y_pred_test = knc.predict(x_test)\n",
    "    train_error.append(accuracy_score(y_train,y_pred_train))\n",
    "    test_error.append(accuracy_score(y_test,y_pred_test))\n",
    "    \n",
    "print('Training score is',np.mean(train_error))\n",
    "print('Test score is',np.mean(test_error))"
   ]
  },
  {
   "cell_type": "code",
   "execution_count": 123,
   "id": "85db6a24",
   "metadata": {},
   "outputs": [],
   "source": [
    "#trained the model on a training set and evaluated its performance on both the training and test sets,calculate the accuracy of the predictions."
   ]
  },
  {
   "cell_type": "code",
   "execution_count": 124,
   "id": "647100c0",
   "metadata": {},
   "outputs": [
    {
     "name": "stdout",
     "output_type": "stream",
     "text": [
      "Training score is 0.7516778523489933\n",
      "Test score is 0.6\n"
     ]
    }
   ],
   "source": [
    "from sklearn.neighbors import KNeighborsClassifier\n",
    "knc = KNeighborsClassifier(n_neighbors=4,p=2)\n",
    "knc.fit(X_train,Y_train)\n",
    "Y_pred_train = knc.predict(X_train)\n",
    "Y_pred_test = knc.predict(X_test)\n",
    "from sklearn.metrics import accuracy_score\n",
    "print('Training score is',accuracy_score(Y_train,Y_pred_train))\n",
    "print('Test score is',accuracy_score(Y_test,Y_pred_test))"
   ]
  },
  {
   "cell_type": "code",
   "execution_count": 125,
   "id": "a5d6d35a",
   "metadata": {},
   "outputs": [],
   "source": [
    "#assess the performance of(knc),K-fold cross-validation is a technique where the dataset is split into k subsets valuated k times, each time using a different fold as the test set and the remaining folds as the training set."
   ]
  },
  {
   "cell_type": "code",
   "execution_count": 126,
   "id": "19973ad2",
   "metadata": {},
   "outputs": [
    {
     "name": "stdout",
     "output_type": "stream",
     "text": [
      "Training score is 0.7908948728410172\n",
      "Test score is 0.29778516057585824\n"
     ]
    }
   ],
   "source": [
    "from sklearn.model_selection import KFold\n",
    "kfold = KFold(n_splits=5)\n",
    "\n",
    "train_error = []\n",
    "test_error = []\n",
    "for train_index,test_index in kfold.split(df2):\n",
    "    x_train,x_test = mm_x.iloc[train_index], mm_x.iloc[test_index]\n",
    "    y_train, y_test = Y.iloc[train_index], Y.iloc[test_index]\n",
    "    knc.fit(x_train,y_train)\n",
    "    y_pred_train = knc.predict(x_train)\n",
    "    y_pred_test = knc.predict(x_test)\n",
    "    train_error.append(accuracy_score(y_train,y_pred_train))\n",
    "    test_error.append(accuracy_score(y_test,y_pred_test))\n",
    "    \n",
    "print('Training score is',np.mean(train_error))\n",
    "print('Test score is',np.mean(test_error))"
   ]
  },
  {
   "cell_type": "code",
   "execution_count": 127,
   "id": "734e370e",
   "metadata": {},
   "outputs": [],
   "source": [
    "#trained the model on a training set and evaluated its performance on both the training and test sets,calculate the accuracy of the predictions."
   ]
  },
  {
   "cell_type": "code",
   "execution_count": 128,
   "id": "19501dfc",
   "metadata": {},
   "outputs": [
    {
     "name": "stdout",
     "output_type": "stream",
     "text": [
      "Training score is 0.7785234899328859\n",
      "Test score is 0.6307692307692307\n"
     ]
    }
   ],
   "source": [
    "from sklearn.neighbors import KNeighborsClassifier\n",
    "knc = KNeighborsClassifier(n_neighbors=4,p=1)\n",
    "knc.fit(X_train,Y_train)\n",
    "Y_pred_train = knc.predict(X_train)\n",
    "Y_pred_test = knc.predict(X_test)\n",
    "from sklearn.metrics import accuracy_score\n",
    "print('Training score is',accuracy_score(Y_train,Y_pred_train))\n",
    "print('Test score is',accuracy_score(Y_test,Y_pred_test))"
   ]
  },
  {
   "cell_type": "code",
   "execution_count": 129,
   "id": "12ddecb6",
   "metadata": {},
   "outputs": [],
   "source": [
    "#assess the performance of(knc),K-fold cross-validation is a technique where the dataset is split into k subsets valuated k times, each time using a different fold as the test set and the remaining folds as the training set."
   ]
  },
  {
   "cell_type": "code",
   "execution_count": 130,
   "id": "708afcc3",
   "metadata": {},
   "outputs": [
    {
     "name": "stdout",
     "output_type": "stream",
     "text": [
      "Training score is 0.8119135046919623\n",
      "Test score is 0.3165005537098561\n"
     ]
    }
   ],
   "source": [
    "from sklearn.model_selection import KFold\n",
    "kfold = KFold(n_splits=5)\n",
    "\n",
    "train_error = []\n",
    "test_error = []\n",
    "for train_index,test_index in kfold.split(df2):\n",
    "    x_train,x_test = mm_x.iloc[train_index], mm_x.iloc[test_index]\n",
    "    y_train, y_test = Y.iloc[train_index], Y.iloc[test_index]\n",
    "    knc.fit(x_train,y_train)\n",
    "    y_pred_train = knc.predict(x_train)\n",
    "    y_pred_test = knc.predict(x_test)\n",
    "    train_error.append(accuracy_score(y_train,y_pred_train))\n",
    "    test_error.append(accuracy_score(y_test,y_pred_test))\n",
    "    \n",
    "print('Training score is',np.mean(train_error))\n",
    "print('Test score is',np.mean(test_error))"
   ]
  },
  {
   "cell_type": "code",
   "execution_count": 131,
   "id": "80acd33a",
   "metadata": {},
   "outputs": [],
   "source": [
    "#trained the model on a training set and evaluated its performance on both the training and test sets,calculate the accuracy of the predictions."
   ]
  },
  {
   "cell_type": "code",
   "execution_count": 132,
   "id": "e0e7d47c",
   "metadata": {},
   "outputs": [
    {
     "name": "stdout",
     "output_type": "stream",
     "text": [
      "Training score is 0.8187919463087249\n",
      "Test score is 0.6923076923076923\n"
     ]
    }
   ],
   "source": [
    "from sklearn.neighbors import KNeighborsClassifier\n",
    "knc = KNeighborsClassifier(n_neighbors=2,p=2)\n",
    "knc.fit(X_train,Y_train)\n",
    "Y_pred_train = knc.predict(X_train)\n",
    "Y_pred_test = knc.predict(X_test)\n",
    "from sklearn.metrics import accuracy_score\n",
    "print('Training score is',accuracy_score(Y_train,Y_pred_train))\n",
    "print('Test score is',accuracy_score(Y_test,Y_pred_test))"
   ]
  },
  {
   "cell_type": "code",
   "execution_count": 133,
   "id": "41da671e",
   "metadata": {},
   "outputs": [],
   "source": [
    "#assess the performance of(knc),K-fold cross-validation is a technique where the dataset is split into k subsets valuated k times, each time using a different fold as the test set and the remaining folds as the training set."
   ]
  },
  {
   "cell_type": "code",
   "execution_count": 134,
   "id": "7473ee65",
   "metadata": {},
   "outputs": [
    {
     "name": "stdout",
     "output_type": "stream",
     "text": [
      "Training score is 0.8411328709370325\n",
      "Test score is 0.4141749723145072\n"
     ]
    }
   ],
   "source": [
    "from sklearn.model_selection import KFold\n",
    "kfold = KFold(n_splits=5)\n",
    "\n",
    "train_error = []\n",
    "test_error = []\n",
    "for train_index,test_index in kfold.split(df2):\n",
    "    x_train,x_test = mm_x.iloc[train_index], mm_x.iloc[test_index]\n",
    "    y_train, y_test = Y.iloc[train_index], Y.iloc[test_index]\n",
    "    knc.fit(x_train,y_train)\n",
    "    y_pred_train = knc.predict(x_train)\n",
    "    y_pred_test = knc.predict(x_test)\n",
    "    train_error.append(accuracy_score(y_train,y_pred_train))\n",
    "    test_error.append(accuracy_score(y_test,y_pred_test))\n",
    "    \n",
    "print('Training score is',np.mean(train_error))\n",
    "print('Test score is',np.mean(test_error))"
   ]
  },
  {
   "cell_type": "code",
   "execution_count": 135,
   "id": "17def8a0",
   "metadata": {},
   "outputs": [],
   "source": [
    "#trained the model on a training set and evaluated its performance on both the training and test sets,calculate the accuracy of the predictions."
   ]
  },
  {
   "cell_type": "code",
   "execution_count": 136,
   "id": "9c403aa0",
   "metadata": {},
   "outputs": [
    {
     "name": "stdout",
     "output_type": "stream",
     "text": [
      "Training score is 0.8322147651006712\n",
      "Test score is 0.6\n"
     ]
    }
   ],
   "source": [
    "from sklearn.neighbors import KNeighborsClassifier\n",
    "knc = KNeighborsClassifier(n_neighbors=2,p=1)\n",
    "knc.fit(X_train,Y_train)\n",
    "Y_pred_train = knc.predict(X_train)\n",
    "Y_pred_test = knc.predict(X_test)\n",
    "from sklearn.metrics import accuracy_score\n",
    "print('Training score is',accuracy_score(Y_train,Y_pred_train))\n",
    "print('Test score is',accuracy_score(Y_test,Y_pred_test))"
   ]
  },
  {
   "cell_type": "code",
   "execution_count": 137,
   "id": "012d9798",
   "metadata": {},
   "outputs": [],
   "source": [
    "#assess the performance of(knc),K-fold cross-validation is a technique where the dataset is split into k subsets valuated k times, each time using a different fold as the test set and the remaining folds as the training set."
   ]
  },
  {
   "cell_type": "code",
   "execution_count": 138,
   "id": "4c8ec95c",
   "metadata": {},
   "outputs": [
    {
     "name": "stdout",
     "output_type": "stream",
     "text": [
      "Training score is 0.8504827961376309\n",
      "Test score is 0.43289036544850507\n"
     ]
    }
   ],
   "source": [
    "from sklearn.model_selection import KFold\n",
    "kfold = KFold(n_splits=5)\n",
    "\n",
    "train_error = []\n",
    "test_error = []\n",
    "for train_index,test_index in kfold.split(df2):\n",
    "    x_train,x_test = mm_x.iloc[train_index], mm_x.iloc[test_index]\n",
    "    y_train, y_test = Y.iloc[train_index], Y.iloc[test_index]\n",
    "    knc.fit(x_train,y_train)\n",
    "    y_pred_train = knc.predict(x_train)\n",
    "    y_pred_test = knc.predict(x_test)\n",
    "    train_error.append(accuracy_score(y_train,y_pred_train))\n",
    "    test_error.append(accuracy_score(y_test,y_pred_test))\n",
    "    \n",
    "print('Training score is',np.mean(train_error))\n",
    "print('Test score is',np.mean(test_error))"
   ]
  },
  {
   "cell_type": "code",
   "execution_count": 139,
   "id": "6f6044ef",
   "metadata": {},
   "outputs": [],
   "source": [
    "#trained the model on a training set and evaluated its performance on both the training and test sets,calculate the accuracy of the predictions."
   ]
  },
  {
   "cell_type": "code",
   "execution_count": 140,
   "id": "72c471bf",
   "metadata": {},
   "outputs": [
    {
     "name": "stdout",
     "output_type": "stream",
     "text": [
      "Training score is 1.0\n",
      "Test score is 0.6923076923076923\n"
     ]
    }
   ],
   "source": [
    "from sklearn.neighbors import KNeighborsClassifier\n",
    "knc = KNeighborsClassifier(n_neighbors=1,p=2)\n",
    "knc.fit(X_train,Y_train)\n",
    "Y_pred_train = knc.predict(X_train)\n",
    "Y_pred_test = knc.predict(X_test)\n",
    "from sklearn.metrics import accuracy_score\n",
    "print('Training score is',accuracy_score(Y_train,Y_pred_train))\n",
    "print('Test score is',accuracy_score(Y_test,Y_pred_test))"
   ]
  },
  {
   "cell_type": "code",
   "execution_count": 141,
   "id": "c08b4644",
   "metadata": {},
   "outputs": [],
   "source": [
    "#assess the performance of(knc),K-fold cross-validation is a technique where the dataset is split into k subsets valuated k times, each time using a different fold as the test set and the remaining folds as the training set."
   ]
  },
  {
   "cell_type": "code",
   "execution_count": 142,
   "id": "708da14e",
   "metadata": {},
   "outputs": [
    {
     "name": "stdout",
     "output_type": "stream",
     "text": [
      "Training score is 1.0\n",
      "Test score is 0.34905869324473976\n"
     ]
    }
   ],
   "source": [
    "from sklearn.model_selection import KFold\n",
    "kfold = KFold(n_splits=5)\n",
    "\n",
    "train_error = []\n",
    "test_error = []\n",
    "for train_index,test_index in kfold.split(df2):\n",
    "    x_train,x_test = mm_x.iloc[train_index], mm_x.iloc[test_index]\n",
    "    y_train, y_test = Y.iloc[train_index], Y.iloc[test_index]\n",
    "    knc.fit(x_train,y_train)\n",
    "    y_pred_train = knc.predict(x_train)\n",
    "    y_pred_test = knc.predict(x_test)\n",
    "    train_error.append(accuracy_score(y_train,y_pred_train))\n",
    "    test_error.append(accuracy_score(y_test,y_pred_test))\n",
    "    \n",
    "print('Training score is',np.mean(train_error))\n",
    "print('Test score is',np.mean(test_error))"
   ]
  },
  {
   "cell_type": "code",
   "execution_count": 143,
   "id": "d84dce17",
   "metadata": {},
   "outputs": [],
   "source": [
    "#trained the model on a training set and evaluated its performance on both the training and test sets,calculate the accuracy of the predictions."
   ]
  },
  {
   "cell_type": "code",
   "execution_count": 144,
   "id": "bd28252c",
   "metadata": {},
   "outputs": [
    {
     "name": "stdout",
     "output_type": "stream",
     "text": [
      "Training score is 1.0\n",
      "Test score is 0.6615384615384615\n"
     ]
    }
   ],
   "source": [
    "from sklearn.neighbors import KNeighborsClassifier\n",
    "knc = KNeighborsClassifier(n_neighbors=1,p=1)\n",
    "knc.fit(X_train,Y_train)\n",
    "Y_pred_train = knc.predict(X_train)\n",
    "Y_pred_test = knc.predict(X_test)\n",
    "from sklearn.metrics import accuracy_score\n",
    "print('Training score is',accuracy_score(Y_train,Y_pred_train))\n",
    "print('Test score is',accuracy_score(Y_test,Y_pred_test))"
   ]
  },
  {
   "cell_type": "code",
   "execution_count": 145,
   "id": "5f242631",
   "metadata": {},
   "outputs": [],
   "source": [
    "#assess the performance of(knc),K-fold cross-validation is a technique where the dataset is split into k subsets valuated k times, each time using a different fold as the test set and the remaining folds as the training set."
   ]
  },
  {
   "cell_type": "code",
   "execution_count": 146,
   "id": "d4540395",
   "metadata": {},
   "outputs": [
    {
     "name": "stdout",
     "output_type": "stream",
     "text": [
      "Training score is 1.0\n",
      "Test score is 0.3631229235880399\n"
     ]
    }
   ],
   "source": [
    "from sklearn.model_selection import KFold\n",
    "kfold = KFold(n_splits=5)\n",
    "\n",
    "train_error = []\n",
    "test_error = []\n",
    "for train_index,test_index in kfold.split(df2):\n",
    "    x_train,x_test = mm_x.iloc[train_index], mm_x.iloc[test_index]\n",
    "    y_train, y_test = Y.iloc[train_index], Y.iloc[test_index]\n",
    "    knc.fit(x_train,y_train)\n",
    "    y_pred_train = knc.predict(x_train)\n",
    "    y_pred_test = knc.predict(x_test)\n",
    "    train_error.append(accuracy_score(y_train,y_pred_train))\n",
    "    test_error.append(accuracy_score(y_test,y_pred_test))\n",
    "    \n",
    "print('Training score is',np.mean(train_error))\n",
    "print('Test score is',np.mean(test_error))"
   ]
  },
  {
   "cell_type": "markdown",
   "id": "9f2298ed",
   "metadata": {},
   "source": [
    "# For normal data the accuracy score is high for n_neighbors = 3 and p =2 and p = 1 the accuracy score is 0.83 and \n",
    "# for n_neighbors = 5 and for p = 2 the train accuracy score is 0.73 and test accuracy score is 0.65 and for p=1 the train \n",
    "# accuracuy score is 0.72 and test accuracy score is 0.65, As the n_neighbors is high and acccuracy score is low.\n",
    "# And by using kfold, we are getting better results for train whereas there is no improvement in test results."
   ]
  }
 ],
 "metadata": {
  "kernelspec": {
   "display_name": "Python 3 (ipykernel)",
   "language": "python",
   "name": "python3"
  },
  "language_info": {
   "codemirror_mode": {
    "name": "ipython",
    "version": 3
   },
   "file_extension": ".py",
   "mimetype": "text/x-python",
   "name": "python",
   "nbconvert_exporter": "python",
   "pygments_lexer": "ipython3",
   "version": "3.9.13"
  }
 },
 "nbformat": 4,
 "nbformat_minor": 5
}
